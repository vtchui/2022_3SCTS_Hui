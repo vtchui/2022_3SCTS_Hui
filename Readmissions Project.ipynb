{
 "cells": [
  {
   "cell_type": "code",
   "execution_count": 215,
   "id": "0265701c",
   "metadata": {
    "ExecuteTime": {
     "end_time": "2022-10-20T08:08:48.586843Z",
     "start_time": "2022-10-20T08:08:48.572440Z"
    }
   },
   "outputs": [],
   "source": [
    "# Project: Using FSH Cardiac Surgical Data to Explore and Predict Readmissions\n",
    "# Author: Victor Hui\n",
    "\n",
    "# This document aims to:\n",
    "# - identify input features relevant to readmission outcome\n",
    "# - standard logistic regression stratifying by readmission outcome\n",
    "# - training machine learning models to predict readmission outcome\n",
    "\n",
    "# cardiac_data_all - this is original uncleaned data\n",
    "# linked_data_anon - this should be ready for analysing, comes from cleaning the other document"
   ]
  },
  {
   "cell_type": "code",
   "execution_count": 216,
   "id": "a014bdf0",
   "metadata": {
    "ExecuteTime": {
     "end_time": "2022-10-20T08:08:48.602766Z",
     "start_time": "2022-10-20T08:08:48.588802Z"
    }
   },
   "outputs": [
    {
     "data": {
      "text/plain": [
       "'0.24.1'"
      ]
     },
     "execution_count": 216,
     "metadata": {},
     "output_type": "execute_result"
    },
    {
     "data": {
      "text/plain": [
       "'1.4.2'"
      ]
     },
     "execution_count": 216,
     "metadata": {},
     "output_type": "execute_result"
    }
   ],
   "source": [
    "import os\n",
    "import numpy as np\n",
    "import pandas as pd\n",
    "import sklearn\n",
    "sklearn.__version__\n",
    "pd.__version__\n",
    "\n",
    "from IPython.core.interactiveshell import InteractiveShell\n",
    "InteractiveShell.ast_node_interactivity = 'all'\n",
    "pd.set_option('display.max_rows', 100) # sets how many rows to display"
   ]
  },
  {
   "cell_type": "code",
   "execution_count": 217,
   "id": "aefff79e",
   "metadata": {
    "ExecuteTime": {
     "end_time": "2022-10-20T08:08:48.634678Z",
     "start_time": "2022-10-20T08:08:48.604759Z"
    }
   },
   "outputs": [
    {
     "data": {
      "text/html": [
       "<div>\n",
       "<style scoped>\n",
       "    .dataframe tbody tr th:only-of-type {\n",
       "        vertical-align: middle;\n",
       "    }\n",
       "\n",
       "    .dataframe tbody tr th {\n",
       "        vertical-align: top;\n",
       "    }\n",
       "\n",
       "    .dataframe thead th {\n",
       "        text-align: right;\n",
       "    }\n",
       "</style>\n",
       "<table border=\"1\" class=\"dataframe\">\n",
       "  <thead>\n",
       "    <tr style=\"text-align: right;\">\n",
       "      <th></th>\n",
       "      <th>AGE</th>\n",
       "      <th>Sex</th>\n",
       "      <th>DOSA</th>\n",
       "      <th>DOP</th>\n",
       "      <th>PROCNO</th>\n",
       "      <th>Pcode</th>\n",
       "      <th>Race1</th>\n",
       "      <th>SMO_H</th>\n",
       "      <th>SMO_C</th>\n",
       "      <th>DB_CON</th>\n",
       "      <th>...</th>\n",
       "      <th>postop_LOS</th>\n",
       "      <th>total_LOS</th>\n",
       "      <th>BMI</th>\n",
       "      <th>AOPROC_COMMON</th>\n",
       "      <th>AOPATH_COMMON</th>\n",
       "      <th>MIPROC_COMMON</th>\n",
       "      <th>MIPATH_COMMON</th>\n",
       "      <th>TRPROC_COMMON</th>\n",
       "      <th>delta_Cr</th>\n",
       "      <th>CrCl</th>\n",
       "    </tr>\n",
       "  </thead>\n",
       "  <tbody>\n",
       "    <tr>\n",
       "      <th>0</th>\n",
       "      <td>51.605749</td>\n",
       "      <td>2</td>\n",
       "      <td>1</td>\n",
       "      <td>23/02/2015</td>\n",
       "      <td>1</td>\n",
       "      <td>6169</td>\n",
       "      <td>0</td>\n",
       "      <td>0</td>\n",
       "      <td>0.0</td>\n",
       "      <td>0.0</td>\n",
       "      <td>...</td>\n",
       "      <td>5.0</td>\n",
       "      <td>5.0</td>\n",
       "      <td>35.204304</td>\n",
       "      <td>1.0</td>\n",
       "      <td>0.0</td>\n",
       "      <td>3.0</td>\n",
       "      <td>99.0</td>\n",
       "      <td>1.0</td>\n",
       "      <td>6.0</td>\n",
       "      <td>90.000000</td>\n",
       "    </tr>\n",
       "    <tr>\n",
       "      <th>1</th>\n",
       "      <td>40.832306</td>\n",
       "      <td>2</td>\n",
       "      <td>0</td>\n",
       "      <td>19/03/2015</td>\n",
       "      <td>1</td>\n",
       "      <td>6765</td>\n",
       "      <td>1</td>\n",
       "      <td>1</td>\n",
       "      <td>0.0</td>\n",
       "      <td>0.0</td>\n",
       "      <td>...</td>\n",
       "      <td>10.0</td>\n",
       "      <td>13.0</td>\n",
       "      <td>41.522491</td>\n",
       "      <td>1.0</td>\n",
       "      <td>1.0</td>\n",
       "      <td>3.0</td>\n",
       "      <td>1.0</td>\n",
       "      <td>1.0</td>\n",
       "      <td>5.0</td>\n",
       "      <td>90.000000</td>\n",
       "    </tr>\n",
       "    <tr>\n",
       "      <th>2</th>\n",
       "      <td>29.631759</td>\n",
       "      <td>2</td>\n",
       "      <td>0</td>\n",
       "      <td>16/03/2015</td>\n",
       "      <td>1</td>\n",
       "      <td>6054</td>\n",
       "      <td>1</td>\n",
       "      <td>0</td>\n",
       "      <td>0.0</td>\n",
       "      <td>0.0</td>\n",
       "      <td>...</td>\n",
       "      <td>38.0</td>\n",
       "      <td>78.0</td>\n",
       "      <td>32.744928</td>\n",
       "      <td>1.0</td>\n",
       "      <td>0.0</td>\n",
       "      <td>3.0</td>\n",
       "      <td>1.0</td>\n",
       "      <td>99.0</td>\n",
       "      <td>86.0</td>\n",
       "      <td>53.887417</td>\n",
       "    </tr>\n",
       "    <tr>\n",
       "      <th>3</th>\n",
       "      <td>58.004106</td>\n",
       "      <td>2</td>\n",
       "      <td>0</td>\n",
       "      <td>19/03/2015</td>\n",
       "      <td>1</td>\n",
       "      <td>6163</td>\n",
       "      <td>0</td>\n",
       "      <td>1</td>\n",
       "      <td>1.0</td>\n",
       "      <td>0.0</td>\n",
       "      <td>...</td>\n",
       "      <td>19.0</td>\n",
       "      <td>23.0</td>\n",
       "      <td>33.672766</td>\n",
       "      <td>1.0</td>\n",
       "      <td>0.0</td>\n",
       "      <td>1.0</td>\n",
       "      <td>0.0</td>\n",
       "      <td>1.0</td>\n",
       "      <td>28.0</td>\n",
       "      <td>90.000000</td>\n",
       "    </tr>\n",
       "    <tr>\n",
       "      <th>4</th>\n",
       "      <td>51.230663</td>\n",
       "      <td>1</td>\n",
       "      <td>0</td>\n",
       "      <td>27/03/2015</td>\n",
       "      <td>1</td>\n",
       "      <td>6006</td>\n",
       "      <td>0</td>\n",
       "      <td>1</td>\n",
       "      <td>0.0</td>\n",
       "      <td>0.0</td>\n",
       "      <td>...</td>\n",
       "      <td>5.0</td>\n",
       "      <td>12.0</td>\n",
       "      <td>28.731747</td>\n",
       "      <td>1.0</td>\n",
       "      <td>0.0</td>\n",
       "      <td>1.0</td>\n",
       "      <td>0.0</td>\n",
       "      <td>1.0</td>\n",
       "      <td>0.0</td>\n",
       "      <td>90.000000</td>\n",
       "    </tr>\n",
       "    <tr>\n",
       "      <th>...</th>\n",
       "      <td>...</td>\n",
       "      <td>...</td>\n",
       "      <td>...</td>\n",
       "      <td>...</td>\n",
       "      <td>...</td>\n",
       "      <td>...</td>\n",
       "      <td>...</td>\n",
       "      <td>...</td>\n",
       "      <td>...</td>\n",
       "      <td>...</td>\n",
       "      <td>...</td>\n",
       "      <td>...</td>\n",
       "      <td>...</td>\n",
       "      <td>...</td>\n",
       "      <td>...</td>\n",
       "      <td>...</td>\n",
       "      <td>...</td>\n",
       "      <td>...</td>\n",
       "      <td>...</td>\n",
       "      <td>...</td>\n",
       "      <td>...</td>\n",
       "    </tr>\n",
       "    <tr>\n",
       "      <th>3479</th>\n",
       "      <td>63.646817</td>\n",
       "      <td>2</td>\n",
       "      <td>0</td>\n",
       "      <td>06/11/2017</td>\n",
       "      <td>1</td>\n",
       "      <td>6109</td>\n",
       "      <td>0</td>\n",
       "      <td>1</td>\n",
       "      <td>0.0</td>\n",
       "      <td>4.0</td>\n",
       "      <td>...</td>\n",
       "      <td>17.0</td>\n",
       "      <td>20.0</td>\n",
       "      <td>30.757401</td>\n",
       "      <td>3.0</td>\n",
       "      <td>99.0</td>\n",
       "      <td>1.0</td>\n",
       "      <td>0.0</td>\n",
       "      <td>1.0</td>\n",
       "      <td>176.0</td>\n",
       "      <td>54.136568</td>\n",
       "    </tr>\n",
       "    <tr>\n",
       "      <th>3480</th>\n",
       "      <td>51.282683</td>\n",
       "      <td>1</td>\n",
       "      <td>1</td>\n",
       "      <td>10/02/2020</td>\n",
       "      <td>1</td>\n",
       "      <td>6110</td>\n",
       "      <td>0</td>\n",
       "      <td>1</td>\n",
       "      <td>0.0</td>\n",
       "      <td>0.0</td>\n",
       "      <td>...</td>\n",
       "      <td>7.0</td>\n",
       "      <td>7.0</td>\n",
       "      <td>27.160494</td>\n",
       "      <td>3.0</td>\n",
       "      <td>4.0</td>\n",
       "      <td>1.0</td>\n",
       "      <td>0.0</td>\n",
       "      <td>1.0</td>\n",
       "      <td>11.0</td>\n",
       "      <td>90.000000</td>\n",
       "    </tr>\n",
       "    <tr>\n",
       "      <th>3481</th>\n",
       "      <td>82.677618</td>\n",
       "      <td>1</td>\n",
       "      <td>1</td>\n",
       "      <td>06/09/2019</td>\n",
       "      <td>1</td>\n",
       "      <td>6348</td>\n",
       "      <td>0</td>\n",
       "      <td>1</td>\n",
       "      <td>0.0</td>\n",
       "      <td>0.0</td>\n",
       "      <td>...</td>\n",
       "      <td>17.0</td>\n",
       "      <td>17.0</td>\n",
       "      <td>38.302384</td>\n",
       "      <td>3.0</td>\n",
       "      <td>4.0</td>\n",
       "      <td>1.0</td>\n",
       "      <td>19.0</td>\n",
       "      <td>1.0</td>\n",
       "      <td>0.0</td>\n",
       "      <td>90.000000</td>\n",
       "    </tr>\n",
       "    <tr>\n",
       "      <th>3482</th>\n",
       "      <td>64.818617</td>\n",
       "      <td>2</td>\n",
       "      <td>1</td>\n",
       "      <td>06/07/2020</td>\n",
       "      <td>1</td>\n",
       "      <td>6725</td>\n",
       "      <td>0</td>\n",
       "      <td>1</td>\n",
       "      <td>0.0</td>\n",
       "      <td>0.0</td>\n",
       "      <td>...</td>\n",
       "      <td>6.0</td>\n",
       "      <td>6.0</td>\n",
       "      <td>24.221453</td>\n",
       "      <td>3.0</td>\n",
       "      <td>99.0</td>\n",
       "      <td>1.0</td>\n",
       "      <td>19.0</td>\n",
       "      <td>1.0</td>\n",
       "      <td>-1.0</td>\n",
       "      <td>67.820388</td>\n",
       "    </tr>\n",
       "    <tr>\n",
       "      <th>3484</th>\n",
       "      <td>52.865160</td>\n",
       "      <td>1</td>\n",
       "      <td>1</td>\n",
       "      <td>08/03/2021</td>\n",
       "      <td>1</td>\n",
       "      <td>6395</td>\n",
       "      <td>0</td>\n",
       "      <td>1</td>\n",
       "      <td>1.0</td>\n",
       "      <td>0.0</td>\n",
       "      <td>...</td>\n",
       "      <td>7.0</td>\n",
       "      <td>7.0</td>\n",
       "      <td>25.617284</td>\n",
       "      <td>3.0</td>\n",
       "      <td>4.0</td>\n",
       "      <td>1.0</td>\n",
       "      <td>19.0</td>\n",
       "      <td>1.0</td>\n",
       "      <td>-10.0</td>\n",
       "      <td>90.000000</td>\n",
       "    </tr>\n",
       "  </tbody>\n",
       "</table>\n",
       "<p>3209 rows × 156 columns</p>\n",
       "</div>"
      ],
      "text/plain": [
       "            AGE  Sex  DOSA         DOP  PROCNO  Pcode  Race1  SMO_H  SMO_C  \\\n",
       "0     51.605749    2     1  23/02/2015       1   6169      0      0    0.0   \n",
       "1     40.832306    2     0  19/03/2015       1   6765      1      1    0.0   \n",
       "2     29.631759    2     0  16/03/2015       1   6054      1      0    0.0   \n",
       "3     58.004106    2     0  19/03/2015       1   6163      0      1    1.0   \n",
       "4     51.230663    1     0  27/03/2015       1   6006      0      1    0.0   \n",
       "...         ...  ...   ...         ...     ...    ...    ...    ...    ...   \n",
       "3479  63.646817    2     0  06/11/2017       1   6109      0      1    0.0   \n",
       "3480  51.282683    1     1  10/02/2020       1   6110      0      1    0.0   \n",
       "3481  82.677618    1     1  06/09/2019       1   6348      0      1    0.0   \n",
       "3482  64.818617    2     1  06/07/2020       1   6725      0      1    0.0   \n",
       "3484  52.865160    1     1  08/03/2021       1   6395      0      1    1.0   \n",
       "\n",
       "      DB_CON  ...  postop_LOS  total_LOS        BMI  AOPROC_COMMON  \\\n",
       "0        0.0  ...         5.0        5.0  35.204304            1.0   \n",
       "1        0.0  ...        10.0       13.0  41.522491            1.0   \n",
       "2        0.0  ...        38.0       78.0  32.744928            1.0   \n",
       "3        0.0  ...        19.0       23.0  33.672766            1.0   \n",
       "4        0.0  ...         5.0       12.0  28.731747            1.0   \n",
       "...      ...  ...         ...        ...        ...            ...   \n",
       "3479     4.0  ...        17.0       20.0  30.757401            3.0   \n",
       "3480     0.0  ...         7.0        7.0  27.160494            3.0   \n",
       "3481     0.0  ...        17.0       17.0  38.302384            3.0   \n",
       "3482     0.0  ...         6.0        6.0  24.221453            3.0   \n",
       "3484     0.0  ...         7.0        7.0  25.617284            3.0   \n",
       "\n",
       "      AOPATH_COMMON  MIPROC_COMMON  MIPATH_COMMON  TRPROC_COMMON  delta_Cr  \\\n",
       "0               0.0            3.0           99.0            1.0       6.0   \n",
       "1               1.0            3.0            1.0            1.0       5.0   \n",
       "2               0.0            3.0            1.0           99.0      86.0   \n",
       "3               0.0            1.0            0.0            1.0      28.0   \n",
       "4               0.0            1.0            0.0            1.0       0.0   \n",
       "...             ...            ...            ...            ...       ...   \n",
       "3479           99.0            1.0            0.0            1.0     176.0   \n",
       "3480            4.0            1.0            0.0            1.0      11.0   \n",
       "3481            4.0            1.0           19.0            1.0       0.0   \n",
       "3482           99.0            1.0           19.0            1.0      -1.0   \n",
       "3484            4.0            1.0           19.0            1.0     -10.0   \n",
       "\n",
       "           CrCl  \n",
       "0     90.000000  \n",
       "1     90.000000  \n",
       "2     53.887417  \n",
       "3     90.000000  \n",
       "4     90.000000  \n",
       "...         ...  \n",
       "3479  54.136568  \n",
       "3480  90.000000  \n",
       "3481  90.000000  \n",
       "3482  67.820388  \n",
       "3484  90.000000  \n",
       "\n",
       "[3209 rows x 156 columns]"
      ]
     },
     "execution_count": 217,
     "metadata": {},
     "output_type": "execute_result"
    }
   ],
   "source": [
    "### Loading data ###\n",
    "data = pd.read_pickle(\"cardiac_data_anon\")\n",
    "data"
   ]
  },
  {
   "cell_type": "code",
   "execution_count": 218,
   "id": "0b29c2ae",
   "metadata": {
    "ExecuteTime": {
     "end_time": "2022-10-20T08:08:48.650636Z",
     "start_time": "2022-10-20T08:08:48.635677Z"
    }
   },
   "outputs": [
    {
     "data": {
      "text/plain": [
       "(3209, 156)"
      ]
     },
     "execution_count": 218,
     "metadata": {},
     "output_type": "execute_result"
    },
    {
     "data": {
      "text/plain": [
       "['AGE',\n",
       " 'Sex',\n",
       " 'DOSA',\n",
       " 'DOP',\n",
       " 'PROCNO',\n",
       " 'Pcode',\n",
       " 'Race1',\n",
       " 'SMO_H',\n",
       " 'SMO_C',\n",
       " 'DB_CON',\n",
       " 'HCHOL',\n",
       " 'PRECR',\n",
       " 'DIAL',\n",
       " 'TRANS',\n",
       " 'HYT',\n",
       " 'CBVD',\n",
       " 'PVD',\n",
       " 'LD',\n",
       " 'LD_T',\n",
       " 'IE_T',\n",
       " 'IMSRX',\n",
       " 'MI',\n",
       " 'MI_T',\n",
       " 'MI_W',\n",
       " 'CCS',\n",
       " 'ANGRXH',\n",
       " 'ANGRXC',\n",
       " 'CHF',\n",
       " 'CHF_C',\n",
       " 'NYHA',\n",
       " 'SHOCK',\n",
       " 'RESUS',\n",
       " 'ARRT',\n",
       " 'PACE',\n",
       " 'MEDIN',\n",
       " 'MEDNI',\n",
       " 'MEDAC',\n",
       " 'MEDST',\n",
       " 'MED_ASP',\n",
       " 'MED_CLOP',\n",
       " 'MED_TICA',\n",
       " 'MED_AGG',\n",
       " 'MED_AGG_W',\n",
       " 'MED_OTH',\n",
       " 'PCS',\n",
       " 'PTCA',\n",
       " 'PTCA_ADM',\n",
       " 'HTM',\n",
       " 'WKG',\n",
       " 'EF_EST',\n",
       " 'LMD',\n",
       " 'DISVES',\n",
       " 'SURG',\n",
       " 'PROC',\n",
       " 'STAT',\n",
       " 'CCAB',\n",
       " 'DAN',\n",
       " 'CVLV',\n",
       " 'AOSTEN',\n",
       " 'AOREG',\n",
       " 'MISTEN',\n",
       " 'MIREG',\n",
       " 'TRSTEN',\n",
       " 'TRREG',\n",
       " 'AODEP',\n",
       " 'COTH',\n",
       " 'CT',\n",
       " 'CPT',\n",
       " 'AO',\n",
       " 'CPB',\n",
       " 'CCT',\n",
       " 'PERF',\n",
       " 'MIN',\n",
       " 'ROBOT',\n",
       " 'MINHT',\n",
       " 'IABP',\n",
       " 'ECMO',\n",
       " 'ECMO_W',\n",
       " 'VAD',\n",
       " 'DRAIN_4',\n",
       " 'RTT',\n",
       " 'ROBL',\n",
       " 'RBCUnit',\n",
       " 'PlateUnit',\n",
       " 'NovoUnit',\n",
       " 'CryoUnit',\n",
       " 'FFPUnit',\n",
       " 'VENT',\n",
       " 'ICU',\n",
       " 'REICU',\n",
       " 'REINT',\n",
       " 'ROVD',\n",
       " 'ROGO',\n",
       " 'ROSI',\n",
       " 'RDTI',\n",
       " 'ROPA',\n",
       " 'ROOC',\n",
       " 'RONC',\n",
       " 'NRF',\n",
       " 'HAEMOFIL',\n",
       " 'POSTCR',\n",
       " 'POMI',\n",
       " 'POCS',\n",
       " 'POSTHG',\n",
       " 'CIUSE',\n",
       " 'IULOWOUT',\n",
       " 'IULowSVR',\n",
       " 'HB',\n",
       " 'BA',\n",
       " 'CA',\n",
       " 'AFIB',\n",
       " 'NARRTV',\n",
       " 'CVA_P',\n",
       " 'CVA_T',\n",
       " 'COMA',\n",
       " 'VENT_P',\n",
       " 'PUEMB',\n",
       " 'PUPNU',\n",
       " 'INFDS',\n",
       " 'SWI',\n",
       " 'DOWI',\n",
       " 'INFTH',\n",
       " 'INFSP',\n",
       " 'NAODS',\n",
       " 'LISCH',\n",
       " 'ACOAG',\n",
       " 'GIT',\n",
       " 'MSF',\n",
       " 'MORT30',\n",
       " 'DISCHAR',\n",
       " 'MORTPD',\n",
       " 'READ',\n",
       " 'READAC',\n",
       " 'READAR',\n",
       " 'READCHF',\n",
       " 'READVD',\n",
       " 'READPE',\n",
       " 'READCT',\n",
       " 'READPLE',\n",
       " 'READOTHC',\n",
       " 'READDSI',\n",
       " 'READIC',\n",
       " 'READRC',\n",
       " 'READMI',\n",
       " 'READRA',\n",
       " 'READOTHNC',\n",
       " 'postop_LOS',\n",
       " 'total_LOS',\n",
       " 'BMI',\n",
       " 'AOPROC_COMMON',\n",
       " 'AOPATH_COMMON',\n",
       " 'MIPROC_COMMON',\n",
       " 'MIPATH_COMMON',\n",
       " 'TRPROC_COMMON',\n",
       " 'delta_Cr',\n",
       " 'CrCl']"
      ]
     },
     "execution_count": 218,
     "metadata": {},
     "output_type": "execute_result"
    }
   ],
   "source": [
    "data.shape\n",
    "list(data)\n",
    "\n",
    "# each feature is defined as per the ANZSCTS data definitions manual\n",
    "# AOPROCCOMMON, AOPATHCOMMON, MIPROCCOMMON, MIPATHCOMMON, TRPROCCOMMON are the same as their ANZSCTS data counterparts\n",
    "# except their low frequency types (<50) have been counted together as its own type"
   ]
  },
  {
   "cell_type": "code",
   "execution_count": 219,
   "id": "6337101a",
   "metadata": {
    "ExecuteTime": {
     "end_time": "2022-10-20T08:08:48.666627Z",
     "start_time": "2022-10-20T08:08:48.651633Z"
    }
   },
   "outputs": [
    {
     "data": {
      "text/plain": [
       "MINHT     913\n",
       "POSTHG    573\n",
       "PERF      388\n",
       "CCT       388\n",
       "VENT        1\n",
       "dtype: int64"
      ]
     },
     "execution_count": 219,
     "metadata": {},
     "output_type": "execute_result"
    }
   ],
   "source": [
    "### Missing Data ###\n",
    "\n",
    "excluded = 0\n",
    "\n",
    "data.isnull().sum().sort_values(ascending=False)[data.isnull().sum().sort_values(ascending=False) > 0]"
   ]
  },
  {
   "cell_type": "code",
   "execution_count": 220,
   "id": "6bbadab7",
   "metadata": {
    "ExecuteTime": {
     "end_time": "2022-10-20T08:08:48.681589Z",
     "start_time": "2022-10-20T08:08:48.668590Z"
    }
   },
   "outputs": [],
   "source": [
    "# patients with missing PERF and CCT should = 0 to indicate \"No CPB used\"\n",
    "data['PERF'] = data['PERF'].fillna(0)\n",
    "data['CCT'] = data['CCT'].fillna(0)"
   ]
  },
  {
   "cell_type": "code",
   "execution_count": 221,
   "id": "19875c1d",
   "metadata": {
    "ExecuteTime": {
     "end_time": "2022-10-20T08:08:48.697510Z",
     "start_time": "2022-10-20T08:08:48.683548Z"
    }
   },
   "outputs": [
    {
     "data": {
      "text/plain": [
       "1"
      ]
     },
     "execution_count": 221,
     "metadata": {},
     "output_type": "execute_result"
    }
   ],
   "source": [
    "# patients with missing blood gas data\n",
    "\n",
    "# data['EF_EST'].value_counts(dropna=False)\n",
    "data['VENT'].isna().sum()\n",
    "\n",
    "# excluded = excluded + 150 # (must be 2 overlap)\n",
    "excluded = excluded + 1\n",
    "\n",
    "# data = data[data['EF_EST'] > 0]\n",
    "data = data[data['VENT'] >= 0] # some values are 0"
   ]
  },
  {
   "cell_type": "code",
   "execution_count": 222,
   "id": "0ae23b1c",
   "metadata": {
    "ExecuteTime": {
     "end_time": "2022-10-20T08:08:48.713468Z",
     "start_time": "2022-10-20T08:08:48.698509Z"
    }
   },
   "outputs": [
    {
     "data": {
      "text/plain": [
       "1"
      ]
     },
     "execution_count": 222,
     "metadata": {},
     "output_type": "execute_result"
    }
   ],
   "source": [
    "excluded # number of patients missing"
   ]
  },
  {
   "cell_type": "code",
   "execution_count": 223,
   "id": "75bd18d6",
   "metadata": {
    "ExecuteTime": {
     "end_time": "2022-10-20T08:08:48.729425Z",
     "start_time": "2022-10-20T08:08:48.714465Z"
    }
   },
   "outputs": [],
   "source": [
    "# Remove MINHT, POSTHG columns, too many missing\n",
    "data = data.drop('MINHT', axis = 1)\n",
    "data = data.drop('POSTHG', axis = 1)"
   ]
  },
  {
   "cell_type": "code",
   "execution_count": 224,
   "id": "4615af63",
   "metadata": {
    "ExecuteTime": {
     "end_time": "2022-10-20T08:08:48.745382Z",
     "start_time": "2022-10-20T08:08:48.731420Z"
    }
   },
   "outputs": [
    {
     "data": {
      "text/plain": [
       "(3208, 154)"
      ]
     },
     "execution_count": 224,
     "metadata": {},
     "output_type": "execute_result"
    },
    {
     "data": {
      "text/plain": [
       "Series([], dtype: int64)"
      ]
     },
     "execution_count": 224,
     "metadata": {},
     "output_type": "execute_result"
    }
   ],
   "source": [
    "# Double check\n",
    "data.shape\n",
    "data.isnull().sum().sort_values(ascending=False)[data.isnull().sum().sort_values(ascending=False) > 0]\n",
    "# all are present"
   ]
  },
  {
   "cell_type": "code",
   "execution_count": 225,
   "id": "e85e026a",
   "metadata": {
    "ExecuteTime": {
     "end_time": "2022-10-20T08:08:48.761340Z",
     "start_time": "2022-10-20T08:08:48.746380Z"
    }
   },
   "outputs": [],
   "source": [
    "### Creating outcome variable ###\n",
    "\n",
    "# excluding in-hospital mortality\n",
    "# readmission prediction excludes in-hospital mortality - put False\n",
    "# 30 day mortality and NRF prediction includes in-hospital mortality - put True\n",
    "\n",
    "inhospmort = True\n",
    "# inhospmort = False\n",
    "\n",
    "if(inhospmort == False):\n",
    "    data['DISCHAR'].value_counts(dropna=False)\n",
    "    data = data[data['DISCHAR'] != 5]\n",
    "    \n",
    "    # 55 patients excluded\n",
    "    excluded = 55 + excluded\n",
    "    \n",
    "    # to double check\n",
    "    data['DISCHAR'].value_counts()\n",
    "else:\n",
    "    # remove discharge destination as column because we are using inhospmort\n",
    "    data = data.drop('DISCHAR', axis = 1)"
   ]
  },
  {
   "cell_type": "code",
   "execution_count": 226,
   "id": "ded2563d",
   "metadata": {
    "ExecuteTime": {
     "end_time": "2022-10-20T08:08:48.777297Z",
     "start_time": "2022-10-20T08:08:48.762338Z"
    }
   },
   "outputs": [],
   "source": [
    "# cond1 is post discharge mortality is true OR 30d mort is true\n",
    "# cond2 is readmission is true but only if for cardiac surgical reason\n",
    "cond1 = (data['MORTPD'] == True) | (data['MORT30'] == True) \n",
    "cond2 = (data['READ'] == True) # & (data['READOTHNC'] == False) # can exclude readmission for other reasons, but similar result unfortunately\n",
    "\n",
    "# cond3 = (data['MORTPD'] == False) & (data['MORT30'] == False)"
   ]
  },
  {
   "cell_type": "code",
   "execution_count": 227,
   "id": "e0ee3e82",
   "metadata": {
    "ExecuteTime": {
     "end_time": "2022-10-20T08:08:48.793254Z",
     "start_time": "2022-10-20T08:08:48.780289Z"
    }
   },
   "outputs": [
    {
     "data": {
      "text/plain": [
       "0.0    2768\n",
       "1.0     440\n",
       "Name: OUTCOME, dtype: int64"
      ]
     },
     "execution_count": 227,
     "metadata": {},
     "output_type": "execute_result"
    }
   ],
   "source": [
    "# outcome = READ or MORTPD\n",
    "data.loc[cond1 | cond2, 'OUTCOME'] = 1\n",
    "# data.loc[cond3 | cond4, 'OUTCOME'] = 0\n",
    "data['OUTCOME'] = data['OUTCOME'].fillna(0) # this works better, doesn't require complex logic\n",
    "\n",
    "data['OUTCOME'].value_counts()"
   ]
  },
  {
   "cell_type": "code",
   "execution_count": 228,
   "id": "2d7f6d5e",
   "metadata": {
    "ExecuteTime": {
     "end_time": "2022-10-20T08:08:48.824172Z",
     "start_time": "2022-10-20T08:08:48.795252Z"
    }
   },
   "outputs": [
    {
     "data": {
      "text/plain": [
       "0.0    2768\n",
       "1.0     440\n",
       "Name: OUTCOME, dtype: int64"
      ]
     },
     "execution_count": 228,
     "metadata": {},
     "output_type": "execute_result"
    },
    {
     "name": "stdout",
     "output_type": "stream",
     "text": [
      "The incidence of outcome is: 0.1371571072319202\n"
     ]
    },
    {
     "data": {
      "text/plain": [
       "0.0    2824\n",
       "1.0     384\n",
       "Name: READ, dtype: int64"
      ]
     },
     "execution_count": 228,
     "metadata": {},
     "output_type": "execute_result"
    },
    {
     "name": "stdout",
     "output_type": "stream",
     "text": [
      "The incidence of outcome is: 0.11970074812967581\n"
     ]
    },
    {
     "data": {
      "text/plain": [
       "0.0    3199\n",
       "1.0       9\n",
       "Name: MORTPD, dtype: int64"
      ]
     },
     "execution_count": 228,
     "metadata": {},
     "output_type": "execute_result"
    },
    {
     "name": "stdout",
     "output_type": "stream",
     "text": [
      "The incidence of outcome is: 0.002805486284289277\n"
     ]
    },
    {
     "data": {
      "text/plain": [
       "0.0    3151\n",
       "1.0      57\n",
       "Name: MORT30, dtype: int64"
      ]
     },
     "execution_count": 228,
     "metadata": {},
     "output_type": "execute_result"
    }
   ],
   "source": [
    "data['OUTCOME'].value_counts()\n",
    "print(\"The incidence of outcome is: {}\".format(\n",
    "    data['OUTCOME'].value_counts()[1] /\n",
    "    (data['OUTCOME'].value_counts()[0] + data['OUTCOME'].value_counts()[1])))\n",
    "\n",
    "data['READ'].value_counts()\n",
    "print(\"The incidence of outcome is: {}\".format(\n",
    "    data['READ'].value_counts()[1] /\n",
    "    (data['READ'].value_counts()[0] + data['READ'].value_counts()[1])))\n",
    "\n",
    "data['MORTPD'].value_counts()\n",
    "print(\"The incidence of outcome is: {}\".format(\n",
    "    data['MORTPD'].value_counts()[1] /\n",
    "    (data['MORTPD'].value_counts()[0] + data['MORTPD'].value_counts()[1])))\n",
    "\n",
    "data['MORT30'].value_counts()"
   ]
  },
  {
   "cell_type": "code",
   "execution_count": 229,
   "id": "c42d0bc1",
   "metadata": {
    "ExecuteTime": {
     "end_time": "2022-10-20T08:08:48.840129Z",
     "start_time": "2022-10-20T08:08:48.825170Z"
    }
   },
   "outputs": [],
   "source": [
    "# https://immi.homeaffairs.gov.au/visas/working-in-australia/skill-occupation-list/regional-postcodes\n",
    "# Using this to determine which postcodes are regional\n",
    "data['REGIONAL'] = 1\n",
    "data.loc[(data['Pcode'] >= 6000) & (data['Pcode'] <= 6038), 'REGIONAL'] = 0\n",
    "data.loc[(data['Pcode'] >= 6050) & (data['Pcode'] <= 6083), 'REGIONAL'] = 0\n",
    "data.loc[(data['Pcode'] >= 6090) & (data['Pcode'] <= 6182), 'REGIONAL'] = 0\n",
    "data.loc[(data['Pcode'] >= 6208) & (data['Pcode'] <= 6211), 'REGIONAL'] = 0\n",
    "data.loc[(data['Pcode'] >= 6556) & (data['Pcode'] <= 6558), 'REGIONAL'] = 0\n",
    "data.loc[(data['Pcode'] == 6214), 'REGIONAL'] = 0"
   ]
  },
  {
   "cell_type": "code",
   "execution_count": 230,
   "id": "d0ff68dd",
   "metadata": {
    "ExecuteTime": {
     "end_time": "2022-10-20T08:08:48.856087Z",
     "start_time": "2022-10-20T08:08:48.841128Z"
    }
   },
   "outputs": [
    {
     "data": {
      "text/plain": [
       "0    2256\n",
       "1     952\n",
       "Name: REGIONAL, dtype: int64"
      ]
     },
     "execution_count": 230,
     "metadata": {},
     "output_type": "execute_result"
    }
   ],
   "source": [
    "data['REGIONAL'].value_counts() # 490 regional patients"
   ]
  },
  {
   "cell_type": "code",
   "execution_count": 231,
   "id": "b81a09a4",
   "metadata": {
    "ExecuteTime": {
     "end_time": "2022-10-20T08:08:48.872043Z",
     "start_time": "2022-10-20T08:08:48.857084Z"
    }
   },
   "outputs": [],
   "source": [
    "# Remove these columns\n",
    "# data = data.drop('MORTPD', axis=1)\n",
    "# data = data.drop('READ', axis=1)\n",
    "# data = data.drop('MORT30', axis=1)\n",
    "# data = data.drop('DISCHAR', axis = 1)\n",
    "data = data.drop('Pcode', axis=1)\n",
    "\n",
    "# Remove other outcome columns\n",
    "readmission_extra_columns = [\n",
    "    'READAC', 'READAR', 'READCHF', 'READVD', 'READPE', 'READCT', 'READPLE',\n",
    "    'READOTHC', 'READDSI', 'READIC', 'READRC', 'READMI', 'READRA', 'READOTHNC'\n",
    "]\n",
    "data = data.drop(readmission_extra_columns, axis=1)"
   ]
  },
  {
   "cell_type": "code",
   "execution_count": 232,
   "id": "8dbcb8e1",
   "metadata": {
    "ExecuteTime": {
     "end_time": "2022-10-20T08:08:48.887004Z",
     "start_time": "2022-10-20T08:08:48.873041Z"
    }
   },
   "outputs": [
    {
     "data": {
      "text/plain": [
       "['AGE',\n",
       " 'Sex',\n",
       " 'DOSA',\n",
       " 'DOP',\n",
       " 'PROCNO',\n",
       " 'Race1',\n",
       " 'SMO_H',\n",
       " 'SMO_C',\n",
       " 'DB_CON',\n",
       " 'HCHOL',\n",
       " 'PRECR',\n",
       " 'DIAL',\n",
       " 'TRANS',\n",
       " 'HYT',\n",
       " 'CBVD',\n",
       " 'PVD',\n",
       " 'LD',\n",
       " 'LD_T',\n",
       " 'IE_T',\n",
       " 'IMSRX',\n",
       " 'MI',\n",
       " 'MI_T',\n",
       " 'MI_W',\n",
       " 'CCS',\n",
       " 'ANGRXH',\n",
       " 'ANGRXC',\n",
       " 'CHF',\n",
       " 'CHF_C',\n",
       " 'NYHA',\n",
       " 'SHOCK',\n",
       " 'RESUS',\n",
       " 'ARRT',\n",
       " 'PACE',\n",
       " 'MEDIN',\n",
       " 'MEDNI',\n",
       " 'MEDAC',\n",
       " 'MEDST',\n",
       " 'MED_ASP',\n",
       " 'MED_CLOP',\n",
       " 'MED_TICA',\n",
       " 'MED_AGG',\n",
       " 'MED_AGG_W',\n",
       " 'MED_OTH',\n",
       " 'PCS',\n",
       " 'PTCA',\n",
       " 'PTCA_ADM',\n",
       " 'HTM',\n",
       " 'WKG',\n",
       " 'EF_EST',\n",
       " 'LMD',\n",
       " 'DISVES',\n",
       " 'SURG',\n",
       " 'PROC',\n",
       " 'STAT',\n",
       " 'CCAB',\n",
       " 'DAN',\n",
       " 'CVLV',\n",
       " 'AOSTEN',\n",
       " 'AOREG',\n",
       " 'MISTEN',\n",
       " 'MIREG',\n",
       " 'TRSTEN',\n",
       " 'TRREG',\n",
       " 'AODEP',\n",
       " 'COTH',\n",
       " 'CT',\n",
       " 'CPT',\n",
       " 'AO',\n",
       " 'CPB',\n",
       " 'CCT',\n",
       " 'PERF',\n",
       " 'MIN',\n",
       " 'ROBOT',\n",
       " 'IABP',\n",
       " 'ECMO',\n",
       " 'ECMO_W',\n",
       " 'VAD',\n",
       " 'DRAIN_4',\n",
       " 'RTT',\n",
       " 'ROBL',\n",
       " 'RBCUnit',\n",
       " 'PlateUnit',\n",
       " 'NovoUnit',\n",
       " 'CryoUnit',\n",
       " 'FFPUnit',\n",
       " 'VENT',\n",
       " 'ICU',\n",
       " 'REICU',\n",
       " 'REINT',\n",
       " 'ROVD',\n",
       " 'ROGO',\n",
       " 'ROSI',\n",
       " 'RDTI',\n",
       " 'ROPA',\n",
       " 'ROOC',\n",
       " 'RONC',\n",
       " 'NRF',\n",
       " 'HAEMOFIL',\n",
       " 'POSTCR',\n",
       " 'POMI',\n",
       " 'POCS',\n",
       " 'CIUSE',\n",
       " 'IULOWOUT',\n",
       " 'IULowSVR',\n",
       " 'HB',\n",
       " 'BA',\n",
       " 'CA',\n",
       " 'AFIB',\n",
       " 'NARRTV',\n",
       " 'CVA_P',\n",
       " 'CVA_T',\n",
       " 'COMA',\n",
       " 'VENT_P',\n",
       " 'PUEMB',\n",
       " 'PUPNU',\n",
       " 'INFDS',\n",
       " 'SWI',\n",
       " 'DOWI',\n",
       " 'INFTH',\n",
       " 'INFSP',\n",
       " 'NAODS',\n",
       " 'LISCH',\n",
       " 'ACOAG',\n",
       " 'GIT',\n",
       " 'MSF',\n",
       " 'MORT30',\n",
       " 'MORTPD',\n",
       " 'READ',\n",
       " 'postop_LOS',\n",
       " 'total_LOS',\n",
       " 'BMI',\n",
       " 'AOPROC_COMMON',\n",
       " 'AOPATH_COMMON',\n",
       " 'MIPROC_COMMON',\n",
       " 'MIPATH_COMMON',\n",
       " 'TRPROC_COMMON',\n",
       " 'delta_Cr',\n",
       " 'CrCl',\n",
       " 'OUTCOME',\n",
       " 'REGIONAL']"
      ]
     },
     "execution_count": 232,
     "metadata": {},
     "output_type": "execute_result"
    }
   ],
   "source": [
    "list(data)"
   ]
  },
  {
   "cell_type": "code",
   "execution_count": 233,
   "id": "a1d3a320",
   "metadata": {
    "ExecuteTime": {
     "end_time": "2022-10-20T08:08:48.901965Z",
     "start_time": "2022-10-20T08:08:48.888001Z"
    }
   },
   "outputs": [
    {
     "data": {
      "text/plain": [
       "(3208, 87)"
      ]
     },
     "execution_count": 233,
     "metadata": {},
     "output_type": "execute_result"
    }
   ],
   "source": [
    "feature_select = [\n",
    "    'AGE', 'Sex', 'DOSA', 'PROCNO', 'Race1', 'SMO_H', 'SMO_C', 'DB_CON',\n",
    "    'HCHOL', 'PRECR', 'DIAL', 'TRANS', 'HYT', 'CBVD', 'PVD', 'LD', 'LD_T',\n",
    "    'IE_T', 'IMSRX', 'MI', 'MI_T', 'MI_W', 'CCS', 'ANGRXH', 'ANGRXC', 'CHF',\n",
    "    'CHF_C', 'NYHA', 'SHOCK', 'RESUS', 'ARRT', 'PACE', 'MEDIN', 'MEDNI',\n",
    "    'MEDAC', 'MEDST', 'MED_ASP', 'MED_CLOP', 'MED_TICA', 'MED_AGG',\n",
    "    'MED_AGG_W', 'MED_OTH', 'PCS', 'PTCA', 'PTCA_ADM', 'HTM', 'WKG', 'EF_EST',\n",
    "    'LMD', 'DISVES', 'SURG', 'PROC', 'STAT', 'CCAB', 'DAN', 'CVLV', 'AOSTEN',\n",
    "    'AOREG', 'MISTEN', 'MIREG', 'TRSTEN', 'TRREG', 'AODEP', 'COTH', 'CT',\n",
    "    'CPT', 'AO', 'CPB', 'CCT', 'PERF', 'MIN', 'ROBOT', 'IABP', 'ECMO',\n",
    "    'ECMO_W', 'VAD', 'REGIONAL', 'CrCl', 'BMI', 'AOPROC_COMMON',\n",
    "    'AOPATH_COMMON', 'MIPROC_COMMON', 'MIPATH_COMMON', 'TRPROC_COMMON',\n",
    "    'OUTCOME', 'MORT30', 'NRF'\n",
    "]\n",
    "\n",
    "if(inhospmort == True):\n",
    "    data = data[feature_select] # this selects preoperative variables only for MORT30 predictions\n",
    "\n",
    "data.shape"
   ]
  },
  {
   "cell_type": "code",
   "execution_count": 234,
   "id": "ff17a813",
   "metadata": {
    "ExecuteTime": {
     "end_time": "2022-10-20T08:08:48.917921Z",
     "start_time": "2022-10-20T08:08:48.902961Z"
    }
   },
   "outputs": [],
   "source": [
    "# ### Manual feature selection ###\n",
    "\n",
    "# feature_select = [\n",
    "\n",
    "#     # Euroscore II related\n",
    "#     'AGE',\n",
    "#     'Sex',\n",
    "#     #     'PRECR', # preoperative creatinine don't need - we have CrCl\n",
    "#     'CrCl',\n",
    "#     'DIAL',\n",
    "#     'PVD',  # peripheral vascular disease\n",
    "#     'PCS',  # this indicates redo surgery\n",
    "#     'LD_T',  # lung disease\n",
    "#     'SHOCK',\n",
    "#     'RESUS',  # shock or resus patient\n",
    "#     'IE_T',  # infective endocarditis\n",
    "#     'STAT',  # surgical urgency\n",
    "#     'DB_CON',  # diabetes\n",
    "#     'NYHA',\n",
    "#     'CCS',\n",
    "#     'EF_EST',  # LV EF estimation\n",
    "#     'MI_W',  # MI how long ago\n",
    "#     # type of procedure\n",
    "#     'AOPROC_COMMON',\n",
    "#     'MIPROC_COMMON',\n",
    "#     'TRPROC_COMMON',\n",
    "#     'AO',\n",
    "#     # pHTN not included\n",
    "\n",
    "#     # Other ANZSCTS\n",
    "#     'BMI',\n",
    "#     'SURG',\n",
    "#     'PROC',  # surgeon and proceduralist listed\n",
    "#     'SMO_C',  # current smoker\n",
    "# #     'CCT','PERF',  # XClamp and perfusion times - technically not preoperative variables\n",
    "#     'CCAB',  # CABG\n",
    "#     'CVLV',  # valvular procedure\n",
    "#     'COTH',  # other cardiac procedure\n",
    "#     'REGIONAL',  # postcode related\n",
    "#     'Race1',  # ethnicity\n",
    "\n",
    "#     # Post operative outcomes\n",
    "# #     'VENT',  # duration of MV\n",
    "# #     'ICU',  # ICU LOS\n",
    "# #     'postop_LOS',\n",
    "# #     'total_LOS',\n",
    "# #     'REICU',  # readmitted to ICU\n",
    "# #     'REINT',  # reintubated\n",
    "# #     'RTT',  # return to theatre\n",
    "# #     'RBCUnit',\n",
    "# #     'PlateUnit',\n",
    "# #     'NovoUnit',\n",
    "# #     'CryoUnit',\n",
    "# #     'FFPUnit',\n",
    "# #     'NRF',  # new renal insufficiency\n",
    "# #     'HAEMOFIL',  # haemofiltration\n",
    "# #     'POSTCR',\n",
    "# #     'delta_Cr',\n",
    "# #     'POMI',  # post op MI\n",
    "# #     'POCS',  # post op cardiogenic shock\n",
    "# #     'VENT_P',  # prolonged ventilation\n",
    "# #     'HB',  # heart block req PPM\n",
    "# #     'BA',  # new brady req PPM\n",
    "# #     'AFIB',  # new AF\n",
    "# #     'CVA_P',  # stroke permanent\n",
    "# #     'CVA_T',  # stroke transient\n",
    "# #     'COMA',  # new coma\n",
    "# #     'PUEMB',  # pulmonary embolus\n",
    "# #     'PUPNU',  # pneumonia\n",
    "# #     'INFDS',  # deep sternal wound infection\n",
    "# #     'SWI',  # superficial access wound infection\n",
    "# #     'DOWI',  # donor site deep wound infection\n",
    "# #     'INFTH',  # deep access wound infection of parasternal site\n",
    "# #     'INFSP',  # septicaemia\n",
    "# #     'ACOAG',  # anticoagulant complications\n",
    "# #     'MSF',  # multi system failure\n",
    "# #     'NAODS',  # dissection\n",
    "# #     'GIT',  # GIT complications\n",
    "# #     'DISCHAR',  # discharge destination\n",
    "\n",
    "#     # Outcomes to be removed later\n",
    "#     'OUTCOME',\n",
    "#     'MORT30'\n",
    "# ]\n",
    "\n",
    "# if(inhospmort == True):\n",
    "#     data = data[feature_select] # this selects preoperative variables only for MORT30 predictions"
   ]
  },
  {
   "cell_type": "code",
   "execution_count": 235,
   "id": "238ee21a",
   "metadata": {
    "ExecuteTime": {
     "end_time": "2022-10-20T08:08:48.933878Z",
     "start_time": "2022-10-20T08:08:48.918919Z"
    }
   },
   "outputs": [
    {
     "data": {
      "text/plain": [
       "Series([], dtype: int64)"
      ]
     },
     "execution_count": 235,
     "metadata": {},
     "output_type": "execute_result"
    },
    {
     "data": {
      "text/plain": [
       "(3208, 87)"
      ]
     },
     "execution_count": 235,
     "metadata": {},
     "output_type": "execute_result"
    }
   ],
   "source": [
    "data.isnull().sum().sort_values(ascending=False)[data.isnull().sum().sort_values(ascending=False) > 0]\n",
    "data.shape"
   ]
  },
  {
   "cell_type": "code",
   "execution_count": 236,
   "id": "6184d6c2",
   "metadata": {
    "ExecuteTime": {
     "end_time": "2022-10-20T08:08:48.949836Z",
     "start_time": "2022-10-20T08:08:48.934876Z"
    }
   },
   "outputs": [],
   "source": [
    "### Data Preparation ###\n",
    "\n",
    "# Continuous variables (these need StandardScaler)\n",
    "# Ordinal variables (these need MinMaxScaler)\n",
    "# Binary variables (these need nothing)\n",
    "# Categorical variables (these need hot encoding)"
   ]
  },
  {
   "cell_type": "code",
   "execution_count": 237,
   "id": "e2fb9ab0",
   "metadata": {
    "ExecuteTime": {
     "end_time": "2022-10-20T08:08:48.965793Z",
     "start_time": "2022-10-20T08:08:48.950833Z"
    }
   },
   "outputs": [],
   "source": [
    "# Temporarily remove EF_EST missing data\n",
    "#data['EF_EST'].value_counts(dropna=False)\n",
    "#data = data[data['EF_EST'] > 0]"
   ]
  },
  {
   "cell_type": "code",
   "execution_count": 238,
   "id": "7624ab25",
   "metadata": {
    "ExecuteTime": {
     "end_time": "2022-10-20T08:08:48.981751Z",
     "start_time": "2022-10-20T08:08:48.966791Z"
    }
   },
   "outputs": [],
   "source": [
    "### Reading text files from feature_select folder ###\n",
    "\n",
    "with open('feature_num_attribs.txt') as f:\n",
    "    num_attribs = f.read().splitlines()\n",
    "    \n",
    "with open('feature_cat_attribs.txt') as f:\n",
    "    cat_attribs = f.read().splitlines()\n",
    "    \n",
    "with open('feature_ord_attribs.txt') as f:\n",
    "    ord_attribs = f.read().splitlines()"
   ]
  },
  {
   "cell_type": "code",
   "execution_count": 239,
   "id": "af00e29f",
   "metadata": {
    "ExecuteTime": {
     "end_time": "2022-10-20T08:08:48.997708Z",
     "start_time": "2022-10-20T08:08:48.982749Z"
    }
   },
   "outputs": [],
   "source": [
    "num_select = []\n",
    "ord_select = []\n",
    "cat_select = []\n",
    "bin_select = []\n",
    "\n",
    "for i in range(0,len(data.columns)):\n",
    "    if data.columns[i] in num_attribs:\n",
    "        num_select.append(data.columns[i])\n",
    "    elif data.columns[i] in ord_attribs:        \n",
    "        ord_select.append(data.columns[i])\n",
    "    elif data.columns[i] in cat_attribs:\n",
    "        cat_select.append(data.columns[i])\n",
    "    else: # everything else is binary\n",
    "        bin_select.append(data.columns[i])\n",
    "        \n",
    "bin_select.remove('OUTCOME') # remove outcome from bin_select list\n",
    "bin_select.remove('MORT30') # remove outcome from bin_select list\n",
    "\n",
    "# if no feature selection\n",
    "if(inhospmort==False):\n",
    "    bin_select.remove('MORTPD')\n",
    "    bin_select.remove('READ')\n",
    "    bin_select.remove('DOP')\n",
    "\n",
    "if(inhospmort==True):\n",
    "    bin_select.remove('NRF')\n",
    "\n",
    "# bin_select.remove('NRF')"
   ]
  },
  {
   "cell_type": "code",
   "execution_count": 240,
   "id": "6909f597",
   "metadata": {
    "ExecuteTime": {
     "end_time": "2022-10-20T08:08:49.013665Z",
     "start_time": "2022-10-20T08:08:49.000701Z"
    }
   },
   "outputs": [
    {
     "data": {
      "text/plain": [
       "['Sex',\n",
       " 'SURG',\n",
       " 'PROC',\n",
       " 'AOPROC_COMMON',\n",
       " 'AOPATH_COMMON',\n",
       " 'MIPROC_COMMON',\n",
       " 'MIPATH_COMMON',\n",
       " 'TRPROC_COMMON']"
      ]
     },
     "execution_count": 240,
     "metadata": {},
     "output_type": "execute_result"
    },
    {
     "data": {
      "text/plain": [
       "['DB_CON',\n",
       " 'LD_T',\n",
       " 'IE_T',\n",
       " 'MI_T',\n",
       " 'MI_W',\n",
       " 'CCS',\n",
       " 'NYHA',\n",
       " 'MED_AGG_W',\n",
       " 'EF_EST',\n",
       " 'STAT',\n",
       " 'DAN',\n",
       " 'ECMO_W']"
      ]
     },
     "execution_count": 240,
     "metadata": {},
     "output_type": "execute_result"
    },
    {
     "data": {
      "text/plain": [
       "['AGE',\n",
       " 'PROCNO',\n",
       " 'PRECR',\n",
       " 'HTM',\n",
       " 'WKG',\n",
       " 'DISVES',\n",
       " 'CCT',\n",
       " 'PERF',\n",
       " 'CrCl',\n",
       " 'BMI']"
      ]
     },
     "execution_count": 240,
     "metadata": {},
     "output_type": "execute_result"
    }
   ],
   "source": [
    "cat_select\n",
    "ord_select\n",
    "num_select\n",
    "# everything else is binary"
   ]
  },
  {
   "cell_type": "code",
   "execution_count": 241,
   "id": "e3ba952a",
   "metadata": {
    "ExecuteTime": {
     "end_time": "2022-10-20T08:08:49.029622Z",
     "start_time": "2022-10-20T08:08:49.015660Z"
    }
   },
   "outputs": [],
   "source": [
    "### Comparison Tables ###\n",
    "\n",
    "import statsmodels.api as sm\n",
    "from scipy import stats\n",
    "from matplotlib import pyplot as plt\n",
    "import warnings\n",
    "warnings.simplefilter(action='ignore', category=FutureWarning)"
   ]
  },
  {
   "cell_type": "code",
   "execution_count": 242,
   "id": "6ac3fcef",
   "metadata": {
    "ExecuteTime": {
     "end_time": "2022-10-20T08:08:49.045579Z",
     "start_time": "2022-10-20T08:08:49.030620Z"
    }
   },
   "outputs": [],
   "source": [
    "# ### Data Visualisation ###\n",
    "\n",
    "# scatter plot\n",
    "from pandas.plotting import scatter_matrix\n",
    "# attributes = [\"OUTCOME\", \"ICU\"]\n",
    "# scatter_matrix(data[attributes], figsize=(12, 8))\n",
    "# data.hist(column='VENT', by='OUTCOME')"
   ]
  },
  {
   "cell_type": "code",
   "execution_count": 243,
   "id": "681efb26",
   "metadata": {
    "ExecuteTime": {
     "end_time": "2022-10-20T08:08:49.061537Z",
     "start_time": "2022-10-20T08:08:49.046578Z"
    },
    "scrolled": true
   },
   "outputs": [
    {
     "data": {
      "text/plain": [
       "OUTCOME    1.000000\n",
       "PERF       0.080538\n",
       "CCT        0.065133\n",
       "PRECR      0.047558\n",
       "AGE       -0.001583\n",
       "BMI       -0.003845\n",
       "PROCNO    -0.006112\n",
       "WKG       -0.016131\n",
       "DISVES    -0.016811\n",
       "HTM       -0.024987\n",
       "CrCl      -0.063328\n",
       "Name: OUTCOME, dtype: float64"
      ]
     },
     "execution_count": 243,
     "metadata": {},
     "output_type": "execute_result"
    }
   ],
   "source": [
    "# Correlation for numerical features\n",
    "data[num_select + ['OUTCOME']].corr()['OUTCOME'].sort_values(ascending=False)"
   ]
  },
  {
   "cell_type": "code",
   "execution_count": 244,
   "id": "73313fa9",
   "metadata": {
    "ExecuteTime": {
     "end_time": "2022-10-20T08:08:49.077494Z",
     "start_time": "2022-10-20T08:08:49.062534Z"
    }
   },
   "outputs": [
    {
     "data": {
      "text/plain": [
       "OUTCOME      1.000000\n",
       "ECMO_W       0.117200\n",
       "STAT         0.060127\n",
       "LD_T         0.041006\n",
       "DB_CON       0.038610\n",
       "EF_EST       0.027363\n",
       "MED_AGG_W    0.017003\n",
       "NYHA         0.014884\n",
       "IE_T         0.011968\n",
       "MI_T         0.010875\n",
       "MI_W         0.004508\n",
       "CCS          0.000015\n",
       "DAN         -0.035440\n",
       "Name: OUTCOME, dtype: float64"
      ]
     },
     "execution_count": 244,
     "metadata": {},
     "output_type": "execute_result"
    }
   ],
   "source": [
    "# Correlation for ordinal features\n",
    "data[ord_select + ['OUTCOME']].corr()['OUTCOME'].sort_values(ascending=False)"
   ]
  },
  {
   "cell_type": "code",
   "execution_count": 245,
   "id": "92655a80",
   "metadata": {
    "ExecuteTime": {
     "end_time": "2022-10-20T08:08:49.093452Z",
     "start_time": "2022-10-20T08:08:49.078492Z"
    }
   },
   "outputs": [
    {
     "data": {
      "text/plain": [
       "(3208, 84)"
      ]
     },
     "execution_count": 245,
     "metadata": {},
     "output_type": "execute_result"
    },
    {
     "data": {
      "text/plain": [
       "57"
      ]
     },
     "execution_count": 245,
     "metadata": {},
     "output_type": "execute_result"
    },
    {
     "data": {
      "text/plain": [
       "0.017768079800498753"
      ]
     },
     "execution_count": 245,
     "metadata": {},
     "output_type": "execute_result"
    }
   ],
   "source": [
    "# if feature selection\n",
    "\n",
    "if(inhospmort==True):\n",
    "    X = data.drop(['OUTCOME', 'MORT30', 'NRF'], axis = 1)\n",
    "    y = data['MORT30'].astype(int)\n",
    "\n",
    "if(inhospmort==False):\n",
    "    X = data.drop(['OUTCOME', 'MORT30', 'READ', 'MORTPD', 'DOP'], axis = 1)\n",
    "    y = data['OUTCOME'].astype(int)\n",
    "    \n",
    "X.shape #\n",
    "y.sum()\n",
    "y.sum()/len(y) # = % of positive outcomes"
   ]
  },
  {
   "cell_type": "code",
   "execution_count": 246,
   "id": "f67c7c22",
   "metadata": {
    "ExecuteTime": {
     "end_time": "2022-10-20T08:08:49.109409Z",
     "start_time": "2022-10-20T08:08:49.094449Z"
    }
   },
   "outputs": [],
   "source": [
    "### Create the test set first ###\n",
    "from sklearn.model_selection import train_test_split\n",
    "\n",
    "# Splitting training and testing set, stratify by outcome to ensure equal numbers of outcome in train/test\n",
    "# Also make sure to shuffle as patients are chronological order without it\n",
    "X_train, X_test, y_train, y_test = train_test_split(X,\n",
    "                                                    y,\n",
    "                                                    test_size=0.2,\n",
    "                                                    random_state=42,\n",
    "                                                    shuffle=True,\n",
    "                                                    stratify=y)"
   ]
  },
  {
   "cell_type": "code",
   "execution_count": 247,
   "id": "bcc3db2b",
   "metadata": {
    "ExecuteTime": {
     "end_time": "2022-10-20T08:08:49.141324Z",
     "start_time": "2022-10-20T08:08:49.110408Z"
    }
   },
   "outputs": [
    {
     "name": "stdout",
     "output_type": "stream",
     "text": [
      "Feature: AGE, p-value 0.9640409816825114\n",
      "Feature: PROCNO, p-value 0.17057140255439063\n",
      "Feature: PRECR, p-value 0.0001180154604784491\n",
      "Feature: HTM, p-value 0.111755689927961\n",
      "Feature: WKG, p-value 0.07284043368932368\n",
      "Feature: DISVES, p-value 0.6623769464199586\n",
      "Feature: CCT, p-value 0.03561288718804459\n",
      "Feature: PERF, p-value 0.0005943147258437583\n",
      "Feature: CrCl, p-value 1.4622175103767586e-07\n"
     ]
    },
    {
     "data": {
      "text/plain": [
       "['PRECR', 'WKG', 'CCT', 'PERF', 'CrCl']"
      ]
     },
     "execution_count": 247,
     "metadata": {},
     "output_type": "execute_result"
    }
   ],
   "source": [
    "# Univariate Comparisons\n",
    "\n",
    "# feature_selection = True\n",
    "feature_selection = False\n",
    "# outcome = ?\n",
    "# yes_data = data[data[outcome] == 1]\n",
    "# no_data = data[data[outcome] == 0]\n",
    "yes_data = X_train[y_train == 1]\n",
    "no_data = X_train[y_train == 0]\n",
    "\n",
    "\n",
    "num_signi = []\n",
    "\n",
    "for i in range(0, len(num_select) - 1):\n",
    "    p_val = stats.mannwhitneyu(yes_data[num_select[i]],\n",
    "                               no_data[num_select[i]],\n",
    "                               alternative='two-sided').pvalue\n",
    "    print('Feature: {}, p-value {}'.format(num_select[i], p_val))\n",
    "\n",
    "    if (p_val < 0.1):\n",
    "        num_signi.append(num_select[i])\n",
    "\n",
    "# stats.mannwhitneyu(yes_data[variable], no_data[variable], alternative='two-sided')\n",
    "\n",
    "if (feature_selection == True):\n",
    "    num_select = num_signi\n",
    "num_signi"
   ]
  },
  {
   "cell_type": "code",
   "execution_count": 248,
   "id": "5b41910d",
   "metadata": {
    "ExecuteTime": {
     "end_time": "2022-10-20T08:08:49.315859Z",
     "start_time": "2022-10-20T08:08:49.142321Z"
    }
   },
   "outputs": [
    {
     "name": "stdout",
     "output_type": "stream",
     "text": [
      "Feature: DOSA, Chi2 stat [4.70272501], p-value [0.03011483]\n",
      "Feature: Race1, Chi2 stat [4.76742884], p-value [0.02900311]\n",
      "Feature: SMO_H, Chi2 stat [4.02545037], p-value [0.04481865]\n",
      "Feature: SMO_C, Chi2 stat [2.69661031], p-value [0.10056184]\n",
      "Feature: HCHOL, Chi2 stat [4.19525975], p-value [0.04053714]\n",
      "Feature: DIAL, Chi2 stat [21.89384448], p-value [2.88156766e-06]\n",
      "Feature: TRANS, Chi2 stat [5.14018156], p-value [0.0233782]\n",
      "Feature: HYT, Chi2 stat [0.64958279], p-value [0.42026188]\n",
      "Feature: CBVD, Chi2 stat [1.59117999], p-value [0.20715763]\n",
      "Feature: PVD, Chi2 stat [3.01564671], p-value [0.08246456]\n",
      "Feature: LD, Chi2 stat [0.04306456], p-value [0.83560375]\n",
      "Feature: IMSRX, Chi2 stat [6.93184243], p-value [0.00846744]\n",
      "Feature: MI, Chi2 stat [0.01579639], p-value [0.8999823]\n",
      "Feature: ANGRXH, Chi2 stat [0.27745197], p-value [0.59837617]\n",
      "Feature: ANGRXC, Chi2 stat [0.04006871], p-value [0.8413463]\n",
      "Feature: CHF, Chi2 stat [3.2405579], p-value [0.07183617]\n",
      "Feature: CHF_C, Chi2 stat [8.45118904], p-value [0.00364805]\n",
      "Feature: SHOCK, Chi2 stat [26.63390844], p-value [2.45890177e-07]\n",
      "Feature: RESUS, Chi2 stat [5.83188981], p-value [0.01573821]\n",
      "Feature: ARRT, Chi2 stat [3.86862128], p-value [0.04919692]\n",
      "Feature: PACE, Chi2 stat [1.30600453], p-value [0.25311933]\n",
      "Feature: MEDIN, Chi2 stat [21.90387671], p-value [2.86654245e-06]\n",
      "Feature: MEDNI, Chi2 stat [0.08619713], p-value [0.76906857]\n",
      "Feature: MEDAC, Chi2 stat [0.04126439], p-value [0.83902844]\n",
      "Feature: MEDST, Chi2 stat [13.85278], p-value [0.0001977]\n",
      "Feature: MED_ASP, Chi2 stat [0.96762657], p-value [0.32527282]\n",
      "Feature: MED_CLOP, Chi2 stat [0.11216564], p-value [0.73769193]\n",
      "Feature: MED_TICA, Chi2 stat [1.17249365], p-value [0.27888945]\n",
      "Feature: MED_AGG, Chi2 stat [0.0054112], p-value [0.9413598]\n",
      "Feature: MED_OTH, Chi2 stat [1.75732188], p-value [0.18495891]\n",
      "Feature: PCS, Chi2 stat [7.66129835], p-value [0.00564179]\n",
      "Feature: PTCA, Chi2 stat [2.03792474], p-value [0.15341883]\n",
      "Feature: PTCA_ADM, Chi2 stat [2.57009078], p-value [0.10890148]\n",
      "Feature: LMD, Chi2 stat [0.04233163], p-value [0.83698892]\n",
      "Feature: CCAB, Chi2 stat [0.49827515], p-value [0.48025899]\n",
      "Feature: CVLV, Chi2 stat [3.01370905], p-value [0.08256317]\n",
      "Feature: AOSTEN, Chi2 stat [1.76035467], p-value [0.18458028]\n",
      "Feature: AOREG, Chi2 stat [3.58427758], p-value [0.05832877]\n",
      "Feature: MISTEN, Chi2 stat [5.04186452], p-value [0.02474185]\n",
      "Feature: MIREG, Chi2 stat [11.53390355], p-value [0.00068338]\n",
      "Feature: TRSTEN, Chi2 stat [11.34769036], p-value [0.00075542]\n",
      "Feature: TRREG, Chi2 stat [35.55724175], p-value [2.47664601e-09]\n",
      "Feature: AODEP, Chi2 stat [2.9159449], p-value [0.08770803]\n",
      "Feature: COTH, Chi2 stat [2.26194365], p-value [0.13258756]\n",
      "Feature: CT, Chi2 stat [0.69365079], p-value [0.40492538]\n",
      "Feature: CPT, Chi2 stat [0.0547619], p-value [0.81497518]\n",
      "Feature: AO, Chi2 stat [7.37992494], p-value [0.00659559]\n",
      "Feature: CPB, Chi2 stat [0.00254156], p-value [0.95979254]\n",
      "Feature: MIN, Chi2 stat [0.58412698], p-value [0.44469921]\n",
      "Feature: ROBOT, Chi2 stat [0.20079365], p-value [0.654081]\n",
      "Feature: IABP, Chi2 stat [43.78768895], p-value [3.66000053e-11]\n",
      "Feature: ECMO, Chi2 stat [74.67419851], p-value [5.55169613e-18]\n",
      "Feature: VAD, Chi2 stat [0.3468254], p-value [0.55591572]\n",
      "Feature: REGIONAL, Chi2 stat [5.01225001], p-value [0.02516858]\n"
     ]
    },
    {
     "data": {
      "text/plain": [
       "['DOSA',\n",
       " 'Race1',\n",
       " 'SMO_H',\n",
       " 'HCHOL',\n",
       " 'DIAL',\n",
       " 'TRANS',\n",
       " 'PVD',\n",
       " 'IMSRX',\n",
       " 'CHF',\n",
       " 'CHF_C',\n",
       " 'SHOCK',\n",
       " 'RESUS',\n",
       " 'ARRT',\n",
       " 'MEDIN',\n",
       " 'MEDST',\n",
       " 'PCS',\n",
       " 'CVLV',\n",
       " 'AOREG',\n",
       " 'MISTEN',\n",
       " 'MIREG',\n",
       " 'TRSTEN',\n",
       " 'TRREG',\n",
       " 'AODEP',\n",
       " 'AO',\n",
       " 'IABP',\n",
       " 'ECMO',\n",
       " 'REGIONAL']"
      ]
     },
     "execution_count": 248,
     "metadata": {},
     "output_type": "execute_result"
    }
   ],
   "source": [
    "# Chi Sq test for binary features\n",
    "from sklearn.feature_selection import chi2\n",
    "bin_signi = []\n",
    "\n",
    "for i in range(0, len(bin_select)):\n",
    "    bin_array = chi2(X_train[bin_select[i:i+1]], y_train)\n",
    "    print('Feature: {}, Chi2 stat {}, p-value {}'.format(bin_select[i], bin_array[0], bin_array[1]))\n",
    "    if(bin_array[1] < 0.1):\n",
    "        bin_signi.append(bin_select[i])\n",
    "        \n",
    "if (feature_selection == True):\n",
    "    bin_select = bin_signi\n",
    "        \n",
    "bin_signi # this represents p < 0.1"
   ]
  },
  {
   "cell_type": "code",
   "execution_count": 249,
   "id": "7ba4872a",
   "metadata": {
    "ExecuteTime": {
     "end_time": "2022-10-20T08:08:49.363728Z",
     "start_time": "2022-10-20T08:08:49.317852Z"
    }
   },
   "outputs": [
    {
     "name": "stdout",
     "output_type": "stream",
     "text": [
      "Feature: DB_CON, Chi2 stat [7.16278279], p-value [0.00744316]\n",
      "Feature: LD_T, Chi2 stat [0.01783361], p-value [0.89376432]\n",
      "Feature: IE_T, Chi2 stat [0.47215929], p-value [0.49199547]\n",
      "Feature: MI_T, Chi2 stat [0.0074775], p-value [0.93109079]\n",
      "Feature: MI_W, Chi2 stat [0.94121064], p-value [0.33196669]\n",
      "Feature: CCS, Chi2 stat [1.19765576], p-value [0.27379072]\n",
      "Feature: NYHA, Chi2 stat [1.83479239], p-value [0.17556254]\n",
      "Feature: MED_AGG_W, Chi2 stat [1.18650794], p-value [0.27603508]\n",
      "Feature: EF_EST, Chi2 stat [2.41393148], p-value [0.12026]\n",
      "Feature: STAT, Chi2 stat [6.07409259], p-value [0.01371788]\n",
      "Feature: DAN, Chi2 stat [2.45465249], p-value [0.1171771]\n",
      "Feature: ECMO_W, Chi2 stat [132.57770513], p-value [1.11842212e-30]\n"
     ]
    },
    {
     "data": {
      "text/plain": [
       "['DB_CON', 'STAT', 'ECMO_W']"
      ]
     },
     "execution_count": 249,
     "metadata": {},
     "output_type": "execute_result"
    }
   ],
   "source": [
    "# Chi sq test for ordinal features\n",
    "\n",
    "ord_signi = []\n",
    "\n",
    "for i in range(0, len(ord_select)):\n",
    "    ord_array = chi2(X_train[ord_select[i:i+1]], y_train)\n",
    "    print('Feature: {}, Chi2 stat {}, p-value {}'.format(ord_select[i], ord_array[0], ord_array[1]))\n",
    "    if(ord_array[1] < 0.1):\n",
    "        ord_signi.append(ord_select[i])\n",
    "        \n",
    "if (feature_selection == True):\n",
    "    ord_select = ord_signi\n",
    "        \n",
    "ord_signi # this represents p < 0.1"
   ]
  },
  {
   "cell_type": "code",
   "execution_count": 250,
   "id": "3c97f6dd",
   "metadata": {
    "ExecuteTime": {
     "end_time": "2022-10-20T08:08:49.379687Z",
     "start_time": "2022-10-20T08:08:49.364726Z"
    }
   },
   "outputs": [],
   "source": [
    "# Feature Selection based on p values\n",
    "\n",
    "if (feature_selection == True):\n",
    "    X_train = X_train[num_signi+bin_signi+ord_signi+cat_select] # selects features with low p values\n",
    "    X_test = X_test[num_signi+bin_signi+ord_signi+cat_select] # selects features with low p values"
   ]
  },
  {
   "cell_type": "code",
   "execution_count": 251,
   "id": "b63625bf",
   "metadata": {
    "ExecuteTime": {
     "end_time": "2022-10-20T08:08:49.395644Z",
     "start_time": "2022-10-20T08:08:49.381681Z"
    }
   },
   "outputs": [],
   "source": [
    "### Imputation (missing values) ###\n",
    "### Hot encoding categorical values ###\n",
    "# Aim to impute median values for missing values and feature scaling"
   ]
  },
  {
   "cell_type": "code",
   "execution_count": 252,
   "id": "47a04b8e",
   "metadata": {
    "ExecuteTime": {
     "end_time": "2022-10-20T08:08:49.411602Z",
     "start_time": "2022-10-20T08:08:49.396641Z"
    }
   },
   "outputs": [],
   "source": [
    "# Pipeline for numerical attributes\n",
    "from sklearn.pipeline import Pipeline\n",
    "from sklearn.impute import SimpleImputer\n",
    "from sklearn.preprocessing import MinMaxScaler\n",
    "from sklearn.preprocessing import StandardScaler\n",
    "from sklearn.preprocessing import OneHotEncoder\n",
    "\n",
    "#imputer = SimpleImputer(strategy=\"median\")\n",
    "\n",
    "num_pipeline = Pipeline([\n",
    "    ('imputer', SimpleImputer(strategy=\"median\")\n",
    "     ),  # manages missing data with SimpleImputer with median values\n",
    "    ('scaler', StandardScaler()),  # Standard Scaling for numerical continuous attributes\n",
    "])\n",
    "\n",
    "ord_pipeline = Pipeline([\n",
    "    ('imputer', SimpleImputer(strategy=\"most_frequent\")\n",
    "     ),  # manages missing data with SimpleImputer with median values\n",
    "    ('scaler', MinMaxScaler()),  # MinMax 0-1 scaling for ordinal values\n",
    "])\n",
    "\n",
    "bin_pipeline = Pipeline([\n",
    "    ('imputer', SimpleImputer(strategy=\"most_frequent\")) # binary values don't need scaling\n",
    "])\n",
    "\n",
    "cat_encoder = OneHotEncoder(handle_unknown='ignore') # categorical variables need hot encoding"
   ]
  },
  {
   "cell_type": "code",
   "execution_count": 253,
   "id": "aad588c8",
   "metadata": {
    "ExecuteTime": {
     "end_time": "2022-10-20T08:08:49.475436Z",
     "start_time": "2022-10-20T08:08:49.412599Z"
    }
   },
   "outputs": [],
   "source": [
    "# Pipeline for numerical, ordinal and binary and categorical using ColumnTransformer\n",
    "\n",
    "from sklearn.compose import ColumnTransformer\n",
    "\n",
    "# use full_pipeline or select_pipeline here\n",
    "full_pipeline = ColumnTransformer([\n",
    "    (\"num\", num_pipeline, num_select),\n",
    "    (\"ord\", ord_pipeline, ord_select),\n",
    "    (\"bin\", bin_pipeline, bin_select),\n",
    "    (\"cat\", cat_encoder, cat_select)\n",
    "])\n",
    "\n",
    "X_train_prepared = full_pipeline.fit_transform(X_train)\n",
    "X_test_prepared = full_pipeline.transform(X_test)"
   ]
  },
  {
   "cell_type": "code",
   "execution_count": 254,
   "id": "d83676b2",
   "metadata": {
    "ExecuteTime": {
     "end_time": "2022-10-20T08:08:49.490398Z",
     "start_time": "2022-10-20T08:08:49.479426Z"
    }
   },
   "outputs": [
    {
     "data": {
      "text/plain": [
       "(2566, 84)"
      ]
     },
     "execution_count": 254,
     "metadata": {},
     "output_type": "execute_result"
    },
    {
     "data": {
      "text/plain": [
       "(2566, 116)"
      ]
     },
     "execution_count": 254,
     "metadata": {},
     "output_type": "execute_result"
    }
   ],
   "source": [
    "X_train.shape\n",
    "X_train_prepared.shape"
   ]
  },
  {
   "cell_type": "code",
   "execution_count": 255,
   "id": "ba3d2fec",
   "metadata": {
    "ExecuteTime": {
     "end_time": "2022-10-20T08:08:49.506347Z",
     "start_time": "2022-10-20T08:08:49.493383Z"
    }
   },
   "outputs": [],
   "source": [
    "# Oversampling THEN feature selection\n",
    "\n",
    "# 1. X_train - unscaled, full number of features\n",
    "# 2. X_train_prepared - scaled, full number of features\n",
    "# 3. X_train_smote (smotenc) - scaled, oversampled, full number of features\n",
    "# 4. X_train_rfe - scaled, oversampled, selected features\n",
    "\n",
    "# Models that need SMOTE oversampling will benefit from RFE\n",
    "# Random Forests does automatic feature selection, does not need SMOTE either"
   ]
  },
  {
   "cell_type": "code",
   "execution_count": 256,
   "id": "55f29cb8",
   "metadata": {
    "ExecuteTime": {
     "end_time": "2022-10-20T08:08:49.537266Z",
     "start_time": "2022-10-20T08:08:49.507345Z"
    }
   },
   "outputs": [],
   "source": [
    "### Oversampling ###\n",
    "\n",
    "from imblearn.over_sampling import SMOTE\n",
    "from imblearn.over_sampling import SMOTENC\n",
    "\n",
    "# # Works out indices of the attributes listed # for SMOTENC\n",
    "# # use cat_select here\n",
    "# cols_index = [data.columns.get_loc(col) for col in (cat_attribs)]\n",
    "# cols_index.sort()\n",
    "# cols_index = cols_index+list(range(135,167)) # 167,201 OR if select- use some other numbers\n",
    "\n",
    "# # Run SMOTENC\n",
    "# smotenc = SMOTENC(sampling_strategy='minority', random_state = 42 , categorical_features = cols_index)\n",
    "# X_train_smotenc, y_train_smotenc = smotenc.fit_sample(X_train_prepared, y_train)\n",
    "\n",
    "# Normal SMOTE\n",
    "smote = SMOTE(sampling_strategy='minority', random_state = 42 )\n",
    "X_train_smote, y_train_smote = smote.fit_sample(X_train_prepared, y_train)"
   ]
  },
  {
   "cell_type": "code",
   "execution_count": 257,
   "id": "cfb20799",
   "metadata": {
    "ExecuteTime": {
     "end_time": "2022-10-20T08:08:49.553257Z",
     "start_time": "2022-10-20T08:08:49.539261Z"
    }
   },
   "outputs": [],
   "source": [
    "# ### Feature Selection ###\n",
    "\n",
    "# from sklearn.tree import DecisionTreeClassifier\n",
    "# from sklearn.ensemble import RandomForestClassifier\n",
    "# from sklearn.feature_selection import RFE\n",
    "# from sklearn.feature_selection import RFECV\n",
    "# from sklearn.model_selection import StratifiedKFold\n",
    "\n",
    "# # CV to search for number of features\n",
    "# rfecv = RFECV(\n",
    "#     estimator=RandomForestClassifier(random_state=42),\n",
    "#     min_features_to_select=5,\n",
    "#     step=5,\n",
    "#     n_jobs=-1,\n",
    "#     scoring=\"f1\",\n",
    "#     cv=StratifiedKFold(n_splits=5, shuffle=True, random_state=42)\n",
    "# )\n",
    "\n",
    "# X_train_rfe = rfecv.fit_transform(X_train_smote, y_train_smote)\n",
    "# X_train_rfe.shape\n",
    "# X_test_rfe = rfecv.transform(X_test_prepared)\n",
    "# X_test_rfe.shape\n",
    "\n",
    "# # No cross validation of number of features\n",
    "\n",
    "# # rfe = RFE(estimator = DecisionTreeClassifier(), n_features_to_select = None) #  (None = will just half number of features)\n",
    "# # X_train_rfe = rfe.fit_transform(X_train_smote, y_train_smote)\n",
    "# # X_test_rfe = rfe.transform(X_test_prepared)"
   ]
  },
  {
   "cell_type": "code",
   "execution_count": 258,
   "id": "d4c51adf",
   "metadata": {
    "ExecuteTime": {
     "end_time": "2022-10-20T08:08:49.569221Z",
     "start_time": "2022-10-20T08:08:49.554220Z"
    }
   },
   "outputs": [],
   "source": [
    "# # Check some features have disappeared\n",
    "# X_train.shape\n",
    "# X_train_prepared.shape\n",
    "\n",
    "# X_train_smote.shape\n",
    "# X_train_smotenc.shape\n",
    "\n",
    "# X_train_rfe.shape\n",
    "\n",
    "# X_test.shape\n",
    "# X_test_prepared.shape\n",
    "# X_test_rfe.shape"
   ]
  },
  {
   "cell_type": "code",
   "execution_count": 259,
   "id": "340d591f",
   "metadata": {
    "ExecuteTime": {
     "end_time": "2022-10-20T08:08:49.585176Z",
     "start_time": "2022-10-20T08:08:49.570177Z"
    }
   },
   "outputs": [],
   "source": [
    "# # Put True if you want RFE\n",
    "# RFE = False\n",
    "# # RFE = True\n",
    "\n",
    "# # RFE SMOTE\n",
    "# if(RFE==True):\n",
    "#     X_train_smote = X_train_rfe\n",
    "#     X_train_prepared = rfecv.transform(X_train_prepared)\n",
    "#     X_test_prepared = X_test_rfe\n",
    "\n",
    "# # If True, SMOTE will have RFE even if it doesn't say it does\n",
    "# # If False, below LogReg / XGBoost / ANN will all use normal SMOTE (without RFE)"
   ]
  },
  {
   "cell_type": "code",
   "execution_count": 260,
   "id": "c29ef26e",
   "metadata": {
    "ExecuteTime": {
     "end_time": "2022-10-20T08:08:49.601095Z",
     "start_time": "2022-10-20T08:08:49.587132Z"
    }
   },
   "outputs": [],
   "source": [
    "# # no RFE has 182 features\n",
    "# # RFE has fewer features\n",
    "\n",
    "# X_train_smote.shape\n",
    "# X_train_prepared.shape\n",
    "# X_test_prepared.shape"
   ]
  },
  {
   "cell_type": "code",
   "execution_count": 261,
   "id": "cc4520d8",
   "metadata": {
    "ExecuteTime": {
     "end_time": "2022-10-20T08:08:49.617051Z",
     "start_time": "2022-10-20T08:08:49.602092Z"
    }
   },
   "outputs": [],
   "source": [
    "from sklearn.linear_model import LogisticRegression\n",
    "from sklearn.model_selection import GridSearchCV\n",
    "from sklearn.model_selection import RandomizedSearchCV\n",
    "from sklearn.metrics import confusion_matrix\n",
    "from sklearn.model_selection import cross_val_predict\n",
    "from sklearn.model_selection import cross_val_score\n",
    "import matplotlib.pyplot as plt\n",
    "from sklearn.metrics import plot_confusion_matrix\n",
    "from sklearn.metrics import roc_auc_score\n",
    "from sklearn.metrics import classification_report"
   ]
  },
  {
   "cell_type": "code",
   "execution_count": 262,
   "id": "484398e8",
   "metadata": {
    "ExecuteTime": {
     "end_time": "2022-10-20T08:08:56.434528Z",
     "start_time": "2022-10-20T08:08:49.619046Z"
    }
   },
   "outputs": [
    {
     "data": {
      "text/plain": [
       "GridSearchCV(cv=5,\n",
       "             estimator=LogisticRegression(max_iter=200, solver='liblinear'),\n",
       "             n_jobs=-1,\n",
       "             param_grid={'C': [0.001, 0.01, 0.1, 1, 10, 100],\n",
       "                         'class_weight': [None, 'balanced'],\n",
       "                         'penalty': ['l1', 'l2']},\n",
       "             scoring='roc_auc')"
      ]
     },
     "execution_count": 262,
     "metadata": {},
     "output_type": "execute_result"
    },
    {
     "name": "stdout",
     "output_type": "stream",
     "text": [
      "Best parameters: {'C': 1, 'class_weight': None, 'penalty': 'l2'}\n",
      "Best cross-validation score: 0.9558\n",
      "Best estimator:\n",
      "LogisticRegression(C=1, max_iter=200, solver='liblinear')\n"
     ]
    }
   ],
   "source": [
    "# Logistic Regression\n",
    "\n",
    "# Defining the parameters grid:\n",
    "# values of C the GridSearchCV will go over\n",
    "\n",
    "param_grid = {\n",
    "    'C': [0.001, 0.01, 0.1, 1, 10, 100],\n",
    "    'penalty': [\"l1\", \"l2\"],\n",
    "    'class_weight': [None, \"balanced\"]\n",
    "}\n",
    "\n",
    "log_reg = LogisticRegression(solver=\"liblinear\", max_iter=200)\n",
    "\n",
    "# can try normal X_train_prepared or X_train_smote/smotenc\n",
    "log_grid_search = GridSearchCV(log_reg, param_grid, scoring='roc_auc', cv=5, n_jobs=-1)\n",
    "log_grid_search.fit(X_train_smote, y_train_smote)\n",
    "\n",
    "print(\"Best parameters: {}\".format(log_grid_search.best_params_))\n",
    "print(\"Best cross-validation score: {:.4f}\".format(log_grid_search.best_score_))\n",
    "print(\"Best estimator:\\n{}\".format(log_grid_search.best_estimator_))"
   ]
  },
  {
   "cell_type": "code",
   "execution_count": 263,
   "id": "9df61d0f",
   "metadata": {
    "ExecuteTime": {
     "end_time": "2022-10-20T08:08:56.466554Z",
     "start_time": "2022-10-20T08:08:56.436492Z"
    }
   },
   "outputs": [
    {
     "data": {
      "text/plain": [
       "array([[2263,  257],\n",
       "       [   2,   44]], dtype=int64)"
      ]
     },
     "execution_count": 263,
     "metadata": {},
     "output_type": "execute_result"
    },
    {
     "name": "stdout",
     "output_type": "stream",
     "text": [
      "              precision    recall  f1-score   support\n",
      "\n",
      "          no       1.00      0.90      0.95      2520\n",
      "         yes       0.15      0.96      0.25        46\n",
      "\n",
      "    accuracy                           0.90      2566\n",
      "   macro avg       0.57      0.93      0.60      2566\n",
      "weighted avg       0.98      0.90      0.93      2566\n",
      "\n"
     ]
    },
    {
     "data": {
      "text/plain": [
       "0.9623706004140786"
      ]
     },
     "execution_count": 263,
     "metadata": {},
     "output_type": "execute_result"
    }
   ],
   "source": [
    "y_train_pred = (log_grid_search.predict(X_train_prepared))\n",
    "confusion_matrix(y_train, y_train_pred)\n",
    "print(classification_report(y_train, y_train_pred ,target_names=[\"no\", \"yes\"]))\n",
    "roc_auc_score(y_train, log_grid_search.predict_proba(X_train_prepared)[:, 1])"
   ]
  },
  {
   "cell_type": "code",
   "execution_count": 264,
   "id": "add8391a",
   "metadata": {
    "ExecuteTime": {
     "end_time": "2022-10-20T08:08:56.497476Z",
     "start_time": "2022-10-20T08:08:56.467552Z"
    }
   },
   "outputs": [
    {
     "data": {
      "text/plain": [
       "array([[562,  69],\n",
       "       [  6,   5]], dtype=int64)"
      ]
     },
     "execution_count": 264,
     "metadata": {},
     "output_type": "execute_result"
    },
    {
     "name": "stdout",
     "output_type": "stream",
     "text": [
      "              precision    recall  f1-score   support\n",
      "\n",
      "          no       0.99      0.89      0.94       631\n",
      "         yes       0.07      0.45      0.12        11\n",
      "\n",
      "    accuracy                           0.88       642\n",
      "   macro avg       0.53      0.67      0.53       642\n",
      "weighted avg       0.97      0.88      0.92       642\n",
      "\n"
     ]
    },
    {
     "data": {
      "text/plain": [
       "0.8619795418527589"
      ]
     },
     "execution_count": 264,
     "metadata": {},
     "output_type": "execute_result"
    }
   ],
   "source": [
    "y_test_pred = (log_grid_search.predict(X_test_prepared))\n",
    "confusion_matrix(y_test, y_test_pred)\n",
    "print(classification_report(y_test, y_test_pred ,target_names=[\"no\", \"yes\"]))\n",
    "roc_auc_score(y_test, log_grid_search.predict_proba(X_test_prepared)[:, 1])"
   ]
  },
  {
   "cell_type": "code",
   "execution_count": 265,
   "id": "59f88996",
   "metadata": {
    "ExecuteTime": {
     "end_time": "2022-10-20T08:08:56.513429Z",
     "start_time": "2022-10-20T08:08:56.498471Z"
    }
   },
   "outputs": [],
   "source": [
    "# Random Forests model\n",
    "from sklearn import tree\n",
    "from sklearn.ensemble import RandomForestClassifier\n",
    "\n",
    "random_forests = RandomForestClassifier(random_state=42) "
   ]
  },
  {
   "cell_type": "code",
   "execution_count": 266,
   "id": "2d5dade9",
   "metadata": {
    "ExecuteTime": {
     "end_time": "2022-10-20T08:09:09.525593Z",
     "start_time": "2022-10-20T08:08:56.518416Z"
    }
   },
   "outputs": [
    {
     "data": {
      "text/plain": [
       "RandomizedSearchCV(cv=5, estimator=RandomForestClassifier(random_state=42),\n",
       "                   n_jobs=-1,\n",
       "                   param_distributions={'class_weight': [None, 'balanced',\n",
       "                                                         'balanced_subsample'],\n",
       "                                        'max_depth': [2, 5, 10],\n",
       "                                        'max_features': ['sqrt', 'log2', None],\n",
       "                                        'min_samples_leaf': [2, 4, 6],\n",
       "                                        'min_samples_split': [2, 4],\n",
       "                                        'n_estimators': [10, 50, 100, 200,\n",
       "                                                         500]},\n",
       "                   scoring='recall')"
      ]
     },
     "execution_count": 266,
     "metadata": {},
     "output_type": "execute_result"
    },
    {
     "name": "stdout",
     "output_type": "stream",
     "text": [
      "Best parameters: {'n_estimators': 500, 'min_samples_split': 2, 'min_samples_leaf': 4, 'max_features': None, 'max_depth': 2, 'class_weight': 'balanced_subsample'}\n",
      "Best cross-validation score: 0.4822\n",
      "Best estimator:\n",
      "RandomForestClassifier(class_weight='balanced_subsample', max_depth=2,\n",
      "                       max_features=None, min_samples_leaf=4, n_estimators=500,\n",
      "                       random_state=42)\n"
     ]
    }
   ],
   "source": [
    "rf_params = {\n",
    "    'n_estimators': [10, 50, 100, 200, 500],\n",
    "    'max_features': [\"sqrt\", \"log2\", None],\n",
    "    'min_samples_split': [2, 4],\n",
    "    'min_samples_leaf': [2, 4, 6],\n",
    "    'max_depth': [2, 5, 10],\n",
    "    'class_weight': [None, \"balanced\", \"balanced_subsample\"]\n",
    "}\n",
    "\n",
    "# Scoring to try:\n",
    "# f1, recall, balanced_accuracy, roc_auc\n",
    "rf_grid_search = RandomizedSearchCV(random_forests,\n",
    "                                    rf_params,\n",
    "                                    scoring='recall',\n",
    "                                    cv=5,\n",
    "                                    n_jobs=-1)\n",
    "rf_grid_search.fit(X_train_prepared, y_train)\n",
    "\n",
    "print(\"Best parameters: {}\".format(rf_grid_search.best_params_))\n",
    "print(\"Best cross-validation score: {:.4f}\".format(rf_grid_search.best_score_))\n",
    "print(\"Best estimator:\\n{}\".format(rf_grid_search.best_estimator_))"
   ]
  },
  {
   "cell_type": "code",
   "execution_count": 267,
   "id": "49bd3949",
   "metadata": {
    "ExecuteTime": {
     "end_time": "2022-10-20T08:09:09.842710Z",
     "start_time": "2022-10-20T08:09:09.528550Z"
    }
   },
   "outputs": [
    {
     "data": {
      "text/plain": [
       "array([[2024,  496],\n",
       "       [  11,   35]], dtype=int64)"
      ]
     },
     "execution_count": 267,
     "metadata": {},
     "output_type": "execute_result"
    },
    {
     "name": "stdout",
     "output_type": "stream",
     "text": [
      "              precision    recall  f1-score   support\n",
      "\n",
      "          no       0.99      0.80      0.89      2520\n",
      "         yes       0.07      0.76      0.12        46\n",
      "\n",
      "    accuracy                           0.80      2566\n",
      "   macro avg       0.53      0.78      0.51      2566\n",
      "weighted avg       0.98      0.80      0.87      2566\n",
      "\n"
     ]
    },
    {
     "data": {
      "text/plain": [
       "0.8696256038647343"
      ]
     },
     "execution_count": 267,
     "metadata": {},
     "output_type": "execute_result"
    }
   ],
   "source": [
    "y_train_pred = (rf_grid_search.predict(X_train_prepared))\n",
    "confusion_matrix(y_train, y_train_pred)\n",
    "print(classification_report(y_train, y_train_pred ,target_names=[\"no\", \"yes\"]))\n",
    "roc_auc_score(y_train, rf_grid_search.predict_proba(X_train_prepared)[:, 1])"
   ]
  },
  {
   "cell_type": "code",
   "execution_count": 268,
   "id": "e9d7c43f",
   "metadata": {
    "ExecuteTime": {
     "end_time": "2022-10-20T08:09:10.017249Z",
     "start_time": "2022-10-20T08:09:09.844715Z"
    }
   },
   "outputs": [
    {
     "data": {
      "text/plain": [
       "array([[514, 117],\n",
       "       [  3,   8]], dtype=int64)"
      ]
     },
     "execution_count": 268,
     "metadata": {},
     "output_type": "execute_result"
    },
    {
     "name": "stdout",
     "output_type": "stream",
     "text": [
      "              precision    recall  f1-score   support\n",
      "\n",
      "          no       0.99      0.81      0.90       631\n",
      "         yes       0.06      0.73      0.12        11\n",
      "\n",
      "    accuracy                           0.81       642\n",
      "   macro avg       0.53      0.77      0.51       642\n",
      "weighted avg       0.98      0.81      0.88       642\n",
      "\n"
     ]
    },
    {
     "data": {
      "text/plain": [
       "0.8543437545022331"
      ]
     },
     "execution_count": 268,
     "metadata": {},
     "output_type": "execute_result"
    }
   ],
   "source": [
    "y_test_pred = (rf_grid_search.predict(X_test_prepared))\n",
    "confusion_matrix(y_test, y_test_pred)\n",
    "print(classification_report(y_test, y_test_pred ,target_names=[\"no\", \"yes\"]))\n",
    "roc_auc_score(y_test, rf_grid_search.predict_proba(X_test_prepared)[:, 1])"
   ]
  },
  {
   "cell_type": "code",
   "execution_count": 269,
   "id": "f3bc7d53",
   "metadata": {
    "ExecuteTime": {
     "end_time": "2022-10-20T08:09:10.049204Z",
     "start_time": "2022-10-20T08:09:10.018279Z"
    }
   },
   "outputs": [
    {
     "data": {
      "text/plain": [
       "(3780, 116)"
      ]
     },
     "execution_count": 269,
     "metadata": {},
     "output_type": "execute_result"
    },
    {
     "data": {
      "text/plain": [
       "(1260, 116)"
      ]
     },
     "execution_count": 269,
     "metadata": {},
     "output_type": "execute_result"
    },
    {
     "data": {
      "text/plain": [
       "(642, 84)"
      ]
     },
     "execution_count": 269,
     "metadata": {},
     "output_type": "execute_result"
    }
   ],
   "source": [
    "# train_test_split again - to create validation set\n",
    "\n",
    "X_train_small, X_val, y_train_small, y_val = train_test_split(\n",
    "    X_train_smote,\n",
    "    y_train_smote,\n",
    "    test_size=0.25,\n",
    "    random_state=42,\n",
    "    stratify=y_train_smote)  # 0.25 x 0.8 = 0.2\n",
    "\n",
    "# Using the oversampled training data\n",
    "# X_train_small = 0.6, X_val = 0.2, X_test = 0.2\n",
    "\n",
    "X_train_small.shape\n",
    "X_val.shape\n",
    "X_test.shape"
   ]
  },
  {
   "cell_type": "code",
   "execution_count": 270,
   "id": "6af6f4be",
   "metadata": {
    "ExecuteTime": {
     "end_time": "2022-10-20T08:09:10.064125Z",
     "start_time": "2022-10-20T08:09:10.053152Z"
    }
   },
   "outputs": [
    {
     "data": {
      "text/plain": [
       "'1.5.1'"
      ]
     },
     "execution_count": 270,
     "metadata": {},
     "output_type": "execute_result"
    }
   ],
   "source": [
    "# XGBoost\n",
    "import xgboost\n",
    "\n",
    "xgboost.__version__"
   ]
  },
  {
   "cell_type": "code",
   "execution_count": 271,
   "id": "5a568bb4",
   "metadata": {
    "ExecuteTime": {
     "end_time": "2022-10-20T08:09:10.633599Z",
     "start_time": "2022-10-20T08:09:10.066119Z"
    }
   },
   "outputs": [
    {
     "data": {
      "text/plain": [
       "XGBClassifier(base_score=0.5, booster='gbtree', colsample_bylevel=1,\n",
       "              colsample_bynode=1, colsample_bytree=1, enable_categorical=False,\n",
       "              gamma=0, gpu_id=-1, importance_type=None,\n",
       "              interaction_constraints='', learning_rate=0.300000012,\n",
       "              max_delta_step=0, max_depth=6, min_child_weight=1, missing=nan,\n",
       "              monotone_constraints='()', n_estimators=100, n_jobs=8,\n",
       "              num_parallel_tree=1, predictor='auto', random_state=42,\n",
       "              reg_alpha=0, reg_lambda=1, scale_pos_weight=1, subsample=1,\n",
       "              tree_method='exact', use_label_encoder=False,\n",
       "              validate_parameters=1, verbosity=0)"
      ]
     },
     "execution_count": 271,
     "metadata": {},
     "output_type": "execute_result"
    }
   ],
   "source": [
    "xgb_class = xgboost.XGBClassifier(use_label_encoder=False, verbosity = 0, random_state = 42)\n",
    "xgb_class.fit(X_train_small, y_train_small, early_stopping_rounds=5, eval_set=[(X_val, y_val)], verbose=0)"
   ]
  },
  {
   "cell_type": "code",
   "execution_count": 272,
   "id": "788574c6",
   "metadata": {
    "ExecuteTime": {
     "end_time": "2022-10-20T08:09:25.174374Z",
     "start_time": "2022-10-20T08:09:10.636592Z"
    }
   },
   "outputs": [
    {
     "data": {
      "text/plain": [
       "RandomizedSearchCV(cv=5,\n",
       "                   estimator=XGBClassifier(base_score=0.5, booster='gbtree',\n",
       "                                           colsample_bylevel=1,\n",
       "                                           colsample_bynode=1,\n",
       "                                           colsample_bytree=1,\n",
       "                                           enable_categorical=False, gamma=0,\n",
       "                                           gpu_id=-1, importance_type=None,\n",
       "                                           interaction_constraints='',\n",
       "                                           learning_rate=0.300000012,\n",
       "                                           max_delta_step=0, max_depth=6,\n",
       "                                           min_child_weight=1, missing=nan,\n",
       "                                           monotone_constraints='()',\n",
       "                                           n_estimat...\n",
       "                                           reg_alpha=0, reg_lambda=1,\n",
       "                                           scale_pos_weight=1, subsample=1,\n",
       "                                           tree_method='exact',\n",
       "                                           use_label_encoder=False,\n",
       "                                           validate_parameters=1, verbosity=0),\n",
       "                   n_jobs=-1,\n",
       "                   param_distributions={'colsample_bytree': [0.5, 0.75, 1],\n",
       "                                        'eta': [0.1, 0.3, 0.5],\n",
       "                                        'gamma': [0, 2, 10],\n",
       "                                        'max_depth': [2, 4, 6],\n",
       "                                        'min_child_weight': [1, 2, 10],\n",
       "                                        'scale_pos_weight': [1, 2, 5],\n",
       "                                        'subsample': [0.5, 0.75, 1]},\n",
       "                   scoring='recall')"
      ]
     },
     "execution_count": 272,
     "metadata": {},
     "output_type": "execute_result"
    },
    {
     "name": "stdout",
     "output_type": "stream",
     "text": [
      "Best parameters: {'subsample': 0.5, 'scale_pos_weight': 5, 'min_child_weight': 10, 'max_depth': 4, 'gamma': 10, 'eta': 0.5, 'colsample_bytree': 0.5}\n",
      "Best cross-validation score: 0.9878\n",
      "Best estimator:\n",
      "XGBClassifier(base_score=0.5, booster='gbtree', colsample_bylevel=1,\n",
      "              colsample_bynode=1, colsample_bytree=0.5,\n",
      "              enable_categorical=False, eta=0.5, gamma=10, gpu_id=-1,\n",
      "              importance_type=None, interaction_constraints='',\n",
      "              learning_rate=0.300000012, max_delta_step=0, max_depth=4,\n",
      "              min_child_weight=10, missing=nan, monotone_constraints='()',\n",
      "              n_estimators=100, n_jobs=8, num_parallel_tree=1, predictor='auto',\n",
      "              random_state=42, reg_alpha=0, reg_lambda=1, scale_pos_weight=5,\n",
      "              subsample=0.5, tree_method='exact', use_label_encoder=False,\n",
      "              validate_parameters=1, verbosity=0)\n"
     ]
    }
   ],
   "source": [
    "xgb_params = {\n",
    "    'colsample_bytree': [0.5, 0.75, 1],\n",
    "    'subsample': [0.5, 0.75, 1],\n",
    "    'max_depth': [2, 4, 6],\n",
    "    'gamma': [0, 2, 10],\n",
    "    'eta': [0.1, 0.3, 0.5],\n",
    "    'min_child_weight': [1, 2, 10],\n",
    "    'scale_pos_weight': [1, 2, 5]\n",
    "}\n",
    "\n",
    "fit_params={\n",
    "    \"early_stopping_rounds\": 5,\n",
    "    \"eval_set\": [[X_val, y_val]],\n",
    "    \"verbose\": 0\n",
    "}\n",
    "\n",
    "xgb_grid_search = RandomizedSearchCV(xgb_class, xgb_params, scoring='recall', cv=5, n_jobs=-1)\n",
    "xgb_grid_search.fit(X_train_small, y_train_small, **fit_params)\n",
    "\n",
    "print(\"Best parameters: {}\".format(xgb_grid_search.best_params_))\n",
    "print(\"Best cross-validation score: {:.4f}\".format(xgb_grid_search.best_score_))\n",
    "print(\"Best estimator:\\n{}\".format(xgb_grid_search.best_estimator_))"
   ]
  },
  {
   "cell_type": "code",
   "execution_count": 273,
   "id": "be26be56",
   "metadata": {
    "ExecuteTime": {
     "end_time": "2022-10-20T08:09:25.252165Z",
     "start_time": "2022-10-20T08:09:25.177366Z"
    }
   },
   "outputs": [
    {
     "data": {
      "text/plain": [
       "array([[2476,   44],\n",
       "       [  16,   30]], dtype=int64)"
      ]
     },
     "execution_count": 273,
     "metadata": {},
     "output_type": "execute_result"
    },
    {
     "name": "stdout",
     "output_type": "stream",
     "text": [
      "              precision    recall  f1-score   support\n",
      "\n",
      "          no       0.99      0.98      0.99      2520\n",
      "         yes       0.41      0.65      0.50        46\n",
      "\n",
      "    accuracy                           0.98      2566\n",
      "   macro avg       0.70      0.82      0.74      2566\n",
      "weighted avg       0.98      0.98      0.98      2566\n",
      "\n"
     ]
    },
    {
     "data": {
      "text/plain": [
       "0.9665890269151138"
      ]
     },
     "execution_count": 273,
     "metadata": {},
     "output_type": "execute_result"
    }
   ],
   "source": [
    "y_train_pred = (xgb_grid_search.predict(X_train_prepared))\n",
    "confusion_matrix(y_train, y_train_pred)\n",
    "print(classification_report(y_train, y_train_pred ,target_names=[\"no\", \"yes\"]))\n",
    "roc_auc_score(y_train, xgb_grid_search.predict_proba(X_train_prepared)[:, 1])"
   ]
  },
  {
   "cell_type": "code",
   "execution_count": 274,
   "id": "e291d374",
   "metadata": {
    "ExecuteTime": {
     "end_time": "2022-10-20T08:09:25.314000Z",
     "start_time": "2022-10-20T08:09:25.255158Z"
    }
   },
   "outputs": [
    {
     "data": {
      "text/plain": [
       "array([[620,  11],\n",
       "       [  8,   3]], dtype=int64)"
      ]
     },
     "execution_count": 274,
     "metadata": {},
     "output_type": "execute_result"
    },
    {
     "name": "stdout",
     "output_type": "stream",
     "text": [
      "              precision    recall  f1-score   support\n",
      "\n",
      "          no       0.99      0.98      0.98       631\n",
      "         yes       0.21      0.27      0.24        11\n",
      "\n",
      "    accuracy                           0.97       642\n",
      "   macro avg       0.60      0.63      0.61       642\n",
      "weighted avg       0.97      0.97      0.97       642\n",
      "\n"
     ]
    },
    {
     "data": {
      "text/plain": [
       "0.7742400230514335"
      ]
     },
     "execution_count": 274,
     "metadata": {},
     "output_type": "execute_result"
    }
   ],
   "source": [
    "y_test_pred = (xgb_grid_search.predict(X_test_prepared))\n",
    "confusion_matrix(y_test, y_test_pred)\n",
    "print(classification_report(y_test, y_test_pred ,target_names=[\"no\", \"yes\"]))\n",
    "roc_auc_score(y_test, xgb_grid_search.predict_proba(X_test_prepared)[:, 1])"
   ]
  },
  {
   "cell_type": "code",
   "execution_count": 275,
   "id": "fac2cdd8",
   "metadata": {
    "ExecuteTime": {
     "end_time": "2022-10-20T08:09:25.343920Z",
     "start_time": "2022-10-20T08:09:25.316993Z"
    }
   },
   "outputs": [
    {
     "data": {
      "text/plain": [
       "'2.4.0'"
      ]
     },
     "execution_count": 275,
     "metadata": {},
     "output_type": "execute_result"
    }
   ],
   "source": [
    "# Neural networks\n",
    "import tensorflow.keras\n",
    "from tensorflow.keras.models import Sequential\n",
    "from tensorflow.keras.layers import Dense, Dropout, Activation\n",
    "from tensorflow.keras.layers import Flatten\n",
    "from tensorflow.keras import backend as K\n",
    "from tensorflow.keras import optimizers\n",
    "from tensorflow.keras.wrappers.scikit_learn import KerasClassifier\n",
    "from tensorflow.keras.callbacks import EarlyStopping\n",
    "\n",
    "tensorflow.keras.__version__"
   ]
  },
  {
   "cell_type": "code",
   "execution_count": 276,
   "id": "63e50b93",
   "metadata": {
    "ExecuteTime": {
     "end_time": "2022-10-20T08:09:25.358881Z",
     "start_time": "2022-10-20T08:09:25.346913Z"
    }
   },
   "outputs": [],
   "source": [
    "# Create model function\n",
    "\n",
    "es = EarlyStopping(monitor='val_loss', mode='min', verbose=1, patience=10)\n",
    "\n",
    "def create_model():\n",
    "    # Initialise ANN\n",
    "    model = tensorflow.keras.Sequential()\n",
    "    \n",
    "    # Add dropout to input layer\n",
    "    # Adding dropout regularisation helps avoid overfitting training data\n",
    "    model.add(Dropout(0.2))\n",
    "    \n",
    "    # Add an extra hidden layer\n",
    "    model.add(Dense(20, kernel_initializer='uniform', activation='relu'))\n",
    "    \n",
    "    # Add an extra hidden layer\n",
    "    model.add(Dense(10, kernel_initializer='uniform', activation='relu'))\n",
    "\n",
    "    # Add an output layer\n",
    "    model.add(Dense(1, kernel_initializer='uniform', activation='sigmoid'))\n",
    "\n",
    "    # Compile the model\n",
    "    model.compile(optimizer='adam', loss='binary_crossentropy', metrics=['acc'])\n",
    "    #model.summary()\n",
    "    \n",
    "    return model\n",
    "\n",
    "ann_model = KerasClassifier(build_fn=create_model)"
   ]
  },
  {
   "cell_type": "code",
   "execution_count": 277,
   "id": "77f6ecea",
   "metadata": {
    "ExecuteTime": {
     "end_time": "2022-10-20T08:09:28.903581Z",
     "start_time": "2022-10-20T08:09:25.361873Z"
    }
   },
   "outputs": [
    {
     "name": "stdout",
     "output_type": "stream",
     "text": [
      "Epoch 00041: early stopping\n"
     ]
    },
    {
     "data": {
      "text/plain": [
       "<tensorflow.python.keras.callbacks.History at 0x249e8d51be0>"
      ]
     },
     "execution_count": 277,
     "metadata": {},
     "output_type": "execute_result"
    }
   ],
   "source": [
    "ann_model.fit(X_train_small,\n",
    "              y_train_small,\n",
    "              epochs=1000,\n",
    "              batch_size=100,\n",
    "              verbose=0,\n",
    "              validation_data=(X_val, y_val),\n",
    "              callbacks=[es])\n",
    "\n",
    "# X_train_smote works better than smotenc or prepared"
   ]
  },
  {
   "cell_type": "code",
   "execution_count": 278,
   "id": "0490969c",
   "metadata": {
    "ExecuteTime": {
     "end_time": "2022-10-20T08:09:29.188128Z",
     "start_time": "2022-10-20T08:09:28.906518Z"
    }
   },
   "outputs": [
    {
     "data": {
      "text/plain": [
       "array([[2394,  126],\n",
       "       [   0,   46]], dtype=int64)"
      ]
     },
     "execution_count": 278,
     "metadata": {},
     "output_type": "execute_result"
    },
    {
     "name": "stdout",
     "output_type": "stream",
     "text": [
      "              precision    recall  f1-score   support\n",
      "\n",
      "          no       1.00      0.95      0.97      2520\n",
      "         yes       0.27      1.00      0.42        46\n",
      "\n",
      "    accuracy                           0.95      2566\n",
      "   macro avg       0.63      0.97      0.70      2566\n",
      "weighted avg       0.99      0.95      0.96      2566\n",
      "\n"
     ]
    },
    {
     "data": {
      "text/plain": [
       "0.9969289164941337"
      ]
     },
     "execution_count": 278,
     "metadata": {},
     "output_type": "execute_result"
    }
   ],
   "source": [
    "y_train_pred = ann_model.predict(X_train_prepared)\n",
    "# y_train_pred = np.argmax(ann_model.predict(X_train_prepared), axis=-1)\n",
    "confusion_matrix(y_train, y_train_pred)\n",
    "print(classification_report(y_train, y_train_pred ,target_names=[\"no\", \"yes\"]))\n",
    "roc_auc_score(y_train, ann_model.predict_proba(X_train_prepared)[:, 1])"
   ]
  },
  {
   "cell_type": "code",
   "execution_count": 279,
   "id": "d5de8128",
   "metadata": {
    "ExecuteTime": {
     "end_time": "2022-10-20T08:09:29.328591Z",
     "start_time": "2022-10-20T08:09:29.189127Z"
    }
   },
   "outputs": [
    {
     "data": {
      "text/plain": [
       "array([[586,  45],\n",
       "       [  8,   3]], dtype=int64)"
      ]
     },
     "execution_count": 279,
     "metadata": {},
     "output_type": "execute_result"
    },
    {
     "name": "stdout",
     "output_type": "stream",
     "text": [
      "              precision    recall  f1-score   support\n",
      "\n",
      "          no       0.99      0.93      0.96       631\n",
      "         yes       0.06      0.27      0.10        11\n",
      "\n",
      "    accuracy                           0.92       642\n",
      "   macro avg       0.52      0.60      0.53       642\n",
      "weighted avg       0.97      0.92      0.94       642\n",
      "\n"
     ]
    },
    {
     "data": {
      "text/plain": [
       "0.8052153868318686"
      ]
     },
     "execution_count": 279,
     "metadata": {},
     "output_type": "execute_result"
    }
   ],
   "source": [
    "y_test_pred = (ann_model.predict(X_test_prepared))\n",
    "confusion_matrix(y_test, y_test_pred)\n",
    "print(classification_report(y_test, y_test_pred ,target_names=[\"no\", \"yes\"]))\n",
    "roc_auc_score(y_test, ann_model.predict_proba(X_test_prepared)[:, 1])"
   ]
  },
  {
   "cell_type": "code",
   "execution_count": 280,
   "id": "60b8fd95",
   "metadata": {
    "ExecuteTime": {
     "end_time": "2022-10-20T08:09:33.658879Z",
     "start_time": "2022-10-20T08:09:29.329587Z"
    }
   },
   "outputs": [
    {
     "name": "stdout",
     "output_type": "stream",
     "text": [
      "81/81 [==============================] - 0s 964us/step - loss: 0.5173 - acc: 0.9735\n"
     ]
    },
    {
     "data": {
      "text/plain": [
       "VotingClassifier(estimators=[('log_reg',\n",
       "                              LogisticRegression(C=1, max_iter=200,\n",
       "                                                 solver='liblinear')),\n",
       "                             ('random_forests',\n",
       "                              RandomForestClassifier(class_weight='balanced_subsample',\n",
       "                                                     max_depth=2,\n",
       "                                                     max_features=None,\n",
       "                                                     min_samples_leaf=4,\n",
       "                                                     n_estimators=500,\n",
       "                                                     random_state=42)),\n",
       "                             ('xgb',\n",
       "                              XGBClassifier(base_score=0.5, booster='gbtree',\n",
       "                                            colsample_bylevel=1,\n",
       "                                            colsample_bynode=1,\n",
       "                                            co...\n",
       "                                            monotone_constraints='()',\n",
       "                                            n_estimators=100, n_jobs=8,\n",
       "                                            num_parallel_tree=1,\n",
       "                                            predictor='auto', random_state=42,\n",
       "                                            reg_alpha=0, reg_lambda=1,\n",
       "                                            scale_pos_weight=5, subsample=0.5,\n",
       "                                            tree_method='exact',\n",
       "                                            use_label_encoder=False,\n",
       "                                            validate_parameters=1,\n",
       "                                            verbosity=0)),\n",
       "                             ('ann',\n",
       "                              <tensorflow.python.keras.wrappers.scikit_learn.KerasClassifier object at 0x00000249E6193E20>)],\n",
       "                 voting='soft')"
      ]
     },
     "execution_count": 280,
     "metadata": {},
     "output_type": "execute_result"
    }
   ],
   "source": [
    "# Ensemble\n",
    "from sklearn.ensemble import VotingClassifier\n",
    "\n",
    "# Models to try to incorporate into an ensemble\n",
    "# log_grid_search, rf_grid_search, xgb_grid_search, ann_model\n",
    "\n",
    "ann_model._estimator_type = \"classifier\" # manually set classifier so that scikit can recognise it\n",
    "\n",
    "named_estimators = [\n",
    "    (\"log_reg\", log_grid_search.best_estimator_),\n",
    "    (\"random_forests\", rf_grid_search.best_estimator_),\n",
    "    (\"xgb\", xgb_grid_search.best_estimator_),\n",
    "    (\"ann\", ann_model)\n",
    "]\n",
    "\n",
    "voting_clf = VotingClassifier(named_estimators, voting='soft')\n",
    "voting_clf.fit(X_train_prepared, y_train)"
   ]
  },
  {
   "cell_type": "code",
   "execution_count": 281,
   "id": "901ca5b6",
   "metadata": {
    "ExecuteTime": {
     "end_time": "2022-10-20T08:09:34.290861Z",
     "start_time": "2022-10-20T08:09:33.660874Z"
    }
   },
   "outputs": [
    {
     "data": {
      "text/plain": [
       "array([[2520,    0],\n",
       "       [  36,   10]], dtype=int64)"
      ]
     },
     "execution_count": 281,
     "metadata": {},
     "output_type": "execute_result"
    },
    {
     "name": "stdout",
     "output_type": "stream",
     "text": [
      "              precision    recall  f1-score   support\n",
      "\n",
      "          no       0.99      1.00      0.99      2520\n",
      "         yes       1.00      0.22      0.36        46\n",
      "\n",
      "    accuracy                           0.99      2566\n",
      "   macro avg       0.99      0.61      0.68      2566\n",
      "weighted avg       0.99      0.99      0.98      2566\n",
      "\n"
     ]
    },
    {
     "data": {
      "text/plain": [
       "0.9759575569358179"
      ]
     },
     "execution_count": 281,
     "metadata": {},
     "output_type": "execute_result"
    }
   ],
   "source": [
    "y_train_pred = (voting_clf.predict(X_train_prepared))\n",
    "confusion_matrix(y_train, y_train_pred)\n",
    "print(classification_report(y_train, y_train_pred ,target_names=[\"no\", \"yes\"]))\n",
    "roc_auc_score(y_train, voting_clf.predict_proba(X_train_prepared)[:, 1])"
   ]
  },
  {
   "cell_type": "code",
   "execution_count": 282,
   "id": "a3ba3813",
   "metadata": {
    "ExecuteTime": {
     "end_time": "2022-10-20T08:09:34.700389Z",
     "start_time": "2022-10-20T08:09:34.292820Z"
    }
   },
   "outputs": [
    {
     "data": {
      "text/plain": [
       "array([[631,   0],\n",
       "       [ 10,   1]], dtype=int64)"
      ]
     },
     "execution_count": 282,
     "metadata": {},
     "output_type": "execute_result"
    },
    {
     "name": "stdout",
     "output_type": "stream",
     "text": [
      "              precision    recall  f1-score   support\n",
      "\n",
      "          no       0.98      1.00      0.99       631\n",
      "         yes       1.00      0.09      0.17        11\n",
      "\n",
      "    accuracy                           0.98       642\n",
      "   macro avg       0.99      0.55      0.58       642\n",
      "weighted avg       0.98      0.98      0.98       642\n",
      "\n"
     ]
    },
    {
     "data": {
      "text/plain": [
       "0.8696153292032848"
      ]
     },
     "execution_count": 282,
     "metadata": {},
     "output_type": "execute_result"
    }
   ],
   "source": [
    "y_test_pred = (voting_clf.predict(X_test_prepared))\n",
    "confusion_matrix(y_test, y_test_pred)\n",
    "print(classification_report(y_test, y_test_pred ,target_names=[\"no\", \"yes\"]))\n",
    "roc_auc_score(y_test, voting_clf.predict_proba(X_test_prepared)[:, 1])"
   ]
  },
  {
   "cell_type": "code",
   "execution_count": 283,
   "id": "635cb214",
   "metadata": {
    "ExecuteTime": {
     "end_time": "2022-10-20T08:09:34.715318Z",
     "start_time": "2022-10-20T08:09:34.702350Z"
    }
   },
   "outputs": [],
   "source": [
    "### Model Evaluation ###\n",
    "from sklearn import metrics\n",
    "import matplotlib.pyplot as plt \n",
    "from sklearn.metrics import classification_report\n",
    "from sklearn.metrics import confusion_matrix\n",
    "import seaborn as sns\n",
    "from sklearn.metrics import roc_auc_score\n",
    "from sklearn.metrics import precision_recall_curve\n",
    "from sklearn.metrics import plot_precision_recall_curve\n",
    "from sklearn.metrics import PrecisionRecallDisplay\n",
    "from sklearn.metrics import plot_roc_curve\n",
    "from sklearn.metrics import auc\n",
    "\n",
    "def model_evaluation(model):\n",
    "    plt.rcParams[\"figure.figsize\"] = (5,5)\n",
    "    \n",
    "    y_pred = model.predict(X_test_prepared)\n",
    "    \n",
    "    ### Classification report ###\n",
    "    print(classification_report(y_test, y_pred ,target_names=[\"no\", \"yes\"]))\n",
    "    \n",
    "    ### Confusion Matrix ###\n",
    "    confusion = metrics.confusion_matrix(y_test, y_pred)\n",
    "    \n",
    "    labels = {'No', 'Yes'}\n",
    "    ax= plt.subplot()\n",
    "    sns.heatmap(confusion, annot=True, fmt='.0f', ax= ax, cmap=\"viridis\")\n",
    "\n",
    "    # labels, title and ticks\n",
    "    ax.set_xlabel('Predicted labels');ax.set_ylabel('True labels'); \n",
    "    ax.set_title('Confusion Matrix'); \n",
    "    ax.xaxis.set_ticklabels(['No', 'Yes']); ax.yaxis.set_ticklabels(['No', 'Yes'])\n",
    "    \n",
    "    # Sensitivity, specificity, PPV and NPV\n",
    "    # true positives / all positives\n",
    "    print('Sensitivity: {0:.3g}'.format(confusion[1][1]/confusion[1].sum()))\n",
    "    # true negatives / all negatives\n",
    "    print('Specificity: {0:.3g}'.format(confusion[0][0]/confusion[0].sum()))\n",
    "    # PPV\n",
    "    print('PPV: {0:.3g}'.format(confusion[1][1]/confusion[:,1].sum()))\n",
    "    # NPV\n",
    "    print('NPV: {0:.3g}'.format(confusion[0][0]/confusion[:,0].sum()))\n",
    "    \n",
    "    # AUC of ROC\n",
    "    roc = roc_auc_score(y_test, model.predict_proba(X_test_prepared)[:, 1])\n",
    "    print('The AUC is {0:.3g}'.format(roc))\n",
    "    \n",
    "    # AU PRC\n",
    "    precision, recall, thresholds = precision_recall_curve(y_test, pd.Series(model.predict_proba(X_test_prepared)[:, 1]))\n",
    "    print('The AUPRC is {0:.3g}'.format(auc(recall, precision)))\n",
    "    \n",
    "    # Precision Recall Curve\n",
    "#     plot_precision_recall_curve(model, X_test_prepared, y_test)\n",
    "#     PrecisionRecallDisplay.from_estimators(model, X_test_prepared, y_test) # this requires scikit1.0 which I can't get working\n",
    "    "
   ]
  },
  {
   "cell_type": "code",
   "execution_count": 284,
   "id": "4e64e2a1",
   "metadata": {
    "ExecuteTime": {
     "end_time": "2022-10-20T08:09:34.731279Z",
     "start_time": "2022-10-20T08:09:34.717312Z"
    }
   },
   "outputs": [
    {
     "data": {
      "text/plain": [
       "562"
      ]
     },
     "execution_count": 284,
     "metadata": {},
     "output_type": "execute_result"
    }
   ],
   "source": [
    "model = log_grid_search\n",
    "y_pred = model.predict(X_test_prepared)\n",
    "confusion = metrics.confusion_matrix(y_test, y_pred)\n",
    "confusion[0][0]"
   ]
  },
  {
   "cell_type": "code",
   "execution_count": 285,
   "id": "8682f366",
   "metadata": {
    "ExecuteTime": {
     "end_time": "2022-10-20T08:09:34.997896Z",
     "start_time": "2022-10-20T08:09:34.735265Z"
    }
   },
   "outputs": [
    {
     "name": "stdout",
     "output_type": "stream",
     "text": [
      "              precision    recall  f1-score   support\n",
      "\n",
      "          no       0.99      0.89      0.94       631\n",
      "         yes       0.07      0.45      0.12        11\n",
      "\n",
      "    accuracy                           0.88       642\n",
      "   macro avg       0.53      0.67      0.53       642\n",
      "weighted avg       0.97      0.88      0.92       642\n",
      "\n",
      "Sensitivity: 0.455\n",
      "Specificity: 0.891\n",
      "PPV: 0.0676\n",
      "NPV: 0.989\n",
      "The AUC is 0.862\n",
      "The AUPRC is 0.233\n"
     ]
    },
    {
     "data": {
      "image/png": "[encoded data removed]",
      "text/plain": [
       "<Figure size 360x360 with 2 Axes>"
      ]
     },
     "metadata": {
      "needs_background": "light"
     },
     "output_type": "display_data"
    }
   ],
   "source": [
    "model_evaluation(log_grid_search)"
   ]
  },
  {
   "cell_type": "code",
   "execution_count": 286,
   "id": "107ba70b",
   "metadata": {
    "ExecuteTime": {
     "end_time": "2022-10-20T08:09:35.469665Z",
     "start_time": "2022-10-20T08:09:35.000891Z"
    }
   },
   "outputs": [
    {
     "name": "stdout",
     "output_type": "stream",
     "text": [
      "              precision    recall  f1-score   support\n",
      "\n",
      "          no       0.99      0.81      0.90       631\n",
      "         yes       0.06      0.73      0.12        11\n",
      "\n",
      "    accuracy                           0.81       642\n",
      "   macro avg       0.53      0.77      0.51       642\n",
      "weighted avg       0.98      0.81      0.88       642\n",
      "\n",
      "Sensitivity: 0.727\n",
      "Specificity: 0.815\n",
      "PPV: 0.064\n",
      "NPV: 0.994\n",
      "The AUC is 0.854\n",
      "The AUPRC is 0.129\n"
     ]
    },
    {
     "data": {
      "image/png": "[encoded data removed]",
      "text/plain": [
       "<Figure size 360x360 with 2 Axes>"
      ]
     },
     "metadata": {
      "needs_background": "light"
     },
     "output_type": "display_data"
    }
   ],
   "source": [
    "model_evaluation(rf_grid_search)"
   ]
  },
  {
   "cell_type": "code",
   "execution_count": 287,
   "id": "5a83515a",
   "metadata": {
    "ExecuteTime": {
     "end_time": "2022-10-20T08:09:35.865574Z",
     "start_time": "2022-10-20T08:09:35.471628Z"
    }
   },
   "outputs": [
    {
     "name": "stdout",
     "output_type": "stream",
     "text": [
      "              precision    recall  f1-score   support\n",
      "\n",
      "          no       0.99      0.98      0.98       631\n",
      "         yes       0.21      0.27      0.24        11\n",
      "\n",
      "    accuracy                           0.97       642\n",
      "   macro avg       0.60      0.63      0.61       642\n",
      "weighted avg       0.97      0.97      0.97       642\n",
      "\n",
      "Sensitivity: 0.273\n",
      "Specificity: 0.983\n",
      "PPV: 0.214\n",
      "NPV: 0.987\n",
      "The AUC is 0.774\n",
      "The AUPRC is 0.131\n"
     ]
    },
    {
     "data": {
      "image/png": "[encoded data removed]",
      "text/plain": [
       "<Figure size 360x360 with 2 Axes>"
      ]
     },
     "metadata": {
      "needs_background": "light"
     },
     "output_type": "display_data"
    }
   ],
   "source": [
    "model_evaluation(xgb_grid_search)"
   ]
  },
  {
   "cell_type": "code",
   "execution_count": 288,
   "id": "fb7a6d55",
   "metadata": {
    "ExecuteTime": {
     "end_time": "2022-10-20T08:09:36.588235Z",
     "start_time": "2022-10-20T08:09:35.868566Z"
    }
   },
   "outputs": [
    {
     "name": "stdout",
     "output_type": "stream",
     "text": [
      "              precision    recall  f1-score   support\n",
      "\n",
      "          no       0.99      0.93      0.96       631\n",
      "         yes       0.06      0.27      0.10        11\n",
      "\n",
      "    accuracy                           0.92       642\n",
      "   macro avg       0.52      0.60      0.53       642\n",
      "weighted avg       0.97      0.92      0.94       642\n",
      "\n",
      "Sensitivity: 0.273\n",
      "Specificity: 0.929\n",
      "PPV: 0.0625\n",
      "NPV: 0.987\n",
      "The AUC is 0.805\n",
      "The AUPRC is 0.226\n"
     ]
    },
    {
     "data": {
      "image/png": "[encoded data removed]",
      "text/plain": [
       "<Figure size 360x360 with 2 Axes>"
      ]
     },
     "metadata": {
      "needs_background": "light"
     },
     "output_type": "display_data"
    }
   ],
   "source": [
    "model_evaluation(ann_model)"
   ]
  },
  {
   "cell_type": "code",
   "execution_count": 289,
   "id": "88989219",
   "metadata": {
    "ExecuteTime": {
     "end_time": "2022-10-20T08:09:37.518407Z",
     "start_time": "2022-10-20T08:09:36.593188Z"
    }
   },
   "outputs": [
    {
     "name": "stdout",
     "output_type": "stream",
     "text": [
      "              precision    recall  f1-score   support\n",
      "\n",
      "          no       0.98      1.00      0.99       631\n",
      "         yes       1.00      0.09      0.17        11\n",
      "\n",
      "    accuracy                           0.98       642\n",
      "   macro avg       0.99      0.55      0.58       642\n",
      "weighted avg       0.98      0.98      0.98       642\n",
      "\n",
      "Sensitivity: 0.0909\n",
      "Specificity: 1\n",
      "PPV: 1\n",
      "NPV: 0.984\n",
      "The AUC is 0.87\n",
      "The AUPRC is 0.355\n"
     ]
    },
    {
     "data": {
      "image/png": "[encoded data removed]",
      "text/plain": [
       "<Figure size 360x360 with 2 Axes>"
      ]
     },
     "metadata": {
      "needs_background": "light"
     },
     "output_type": "display_data"
    }
   ],
   "source": [
    "model_evaluation(voting_clf)"
   ]
  },
  {
   "cell_type": "code",
   "execution_count": 290,
   "id": "b47b15b2",
   "metadata": {
    "ExecuteTime": {
     "end_time": "2022-10-20T08:09:37.534332Z",
     "start_time": "2022-10-20T08:09:37.519406Z"
    }
   },
   "outputs": [],
   "source": [
    "### Calculating Euroscore for Comparison ###"
   ]
  },
  {
   "cell_type": "code",
   "execution_count": 291,
   "id": "ba581451",
   "metadata": {
    "ExecuteTime": {
     "end_time": "2022-10-20T08:09:37.611469Z",
     "start_time": "2022-10-20T08:09:37.537323Z"
    }
   },
   "outputs": [],
   "source": [
    "euro_data = data.loc[:]\n",
    "\n",
    "# NYHA classes\n",
    "euro_data.loc[euro_data['NYHA'] == 1, 'NYHA_euro'] = 0\n",
    "euro_data.loc[euro_data['NYHA'] == 2, 'NYHA_euro'] = 0.0170545\n",
    "euro_data.loc[euro_data['NYHA'] == 3, 'NYHA_euro'] = 0.2958358\n",
    "euro_data.loc[euro_data['NYHA'] == 4, 'NYHA_euro'] = 0.5597929\n",
    "\n",
    "# CCS stage 4\n",
    "euro_data.loc[euro_data['CCS'] < 4, 'CCS_euro'] = 0\n",
    "euro_data.loc[euro_data['CCS'] == 4, 'CCS_euro'] = 0.2226147\n",
    "\n",
    "# IDDM\n",
    "euro_data.loc[euro_data['DB_CON'] < 4, 'DB_euro'] = 0\n",
    "euro_data.loc[euro_data['DB_CON'] < 4, 'DB_euro'] = 0.3542749\n",
    "\n",
    "# Age\n",
    "euro_data.loc[euro_data['AGE'] <= 60 , 'age_euro'] = 0\n",
    "euro_data.loc[euro_data['AGE'] > 60, 'age_euro'] = (euro_data['AGE'] - 60) * 0.0285181\n",
    "\n",
    "# Renal dysfunction\n",
    "euro_data.loc[(euro_data['CrCl'] >= 50) & (euro_data['CrCl'] <= 85), 'renal_euro'] = 0.303553\n",
    "euro_data.loc[euro_data['CrCl'] < 50, 'renal_euro'] = 0.8592256\n",
    "euro_data.loc[euro_data['DIAL'] == 1, 'renal_euro'] = 0.6421508\n",
    "euro_data.loc[euro_data['CrCl'] > 85, 'renal_euro'] = 0\n",
    "\n",
    "# LV function\n",
    "euro_data.loc[euro_data['EF_EST'] == 1, 'LVEF_euro'] = 0\n",
    "euro_data.loc[euro_data['EF_EST'] == 2, 'LVEF_euro'] = 0\n",
    "euro_data.loc[euro_data['EF_EST'] == 3, 'LVEF_euro'] = 0.3150652\n",
    "euro_data.loc[euro_data['EF_EST'] == 4, 'LVEF_euro'] = 0.8084096\n",
    "# very poor cardiac function is not reflected in the ANZSCTS database\n",
    "\n",
    "# Chronic respiratory disease\n",
    "euro_data.loc[euro_data['LD_T'] < 2, 'lung_euro'] = 0\n",
    "euro_data.loc[euro_data['STAT'] >= 2, 'lung_euro'] = 0.1886564\n",
    "\n",
    "# Urgency\n",
    "euro_data.loc[euro_data['STAT'] == 1, 'urgency_euro'] = 0\n",
    "euro_data.loc[euro_data['STAT'] == 2, 'urgency_euro'] = 0.3174673\n",
    "euro_data.loc[euro_data['STAT'] == 3, 'urgency_euro'] = 0.7039121\n",
    "euro_data.loc[euro_data['STAT'] == 4, 'urgency_euro'] = 1.362947\n",
    "\n",
    "# Active endocarditis\n",
    "euro_data.loc[euro_data['IE_T'] != 1, 'endocarditis_euro'] = 0\n",
    "euro_data.loc[euro_data['IE_T'] == 1, 'endocarditis_euro'] = 0.6194522\n",
    "\n",
    "# Shock or resus\n",
    "euro_data.loc[(euro_data['SHOCK'] == 0) & (euro_data['RESUS'] == 0), 'critical_euro'] = 0\n",
    "euro_data.loc[(euro_data['SHOCK'] == 1) | (euro_data['RESUS'] == 1), 'critical_euro'] = 1.086517\n",
    "\n",
    "# Recent MI\n",
    "# Euroscore recognises all MI < 90 days\n",
    "# So all definitions of MI_W will count\n",
    "euro_data.loc[euro_data['MI_W'] == 0, 'MI_euro'] = 0\n",
    "euro_data.loc[euro_data['MI_W'] > 0, 'MI_euro'] = 0.1528943\n",
    "\n",
    "## number of procedures ## multiple steps\n",
    "euro_data.loc[euro_data['CCAB'] == 0, 'procedure_euro'] = 0.0062118 # not CABG surgery\n",
    "\n",
    "# break down each valvular procedure into binary\n",
    "euro_data['AOPROC'] = 0\n",
    "euro_data['MIPROC'] = 0\n",
    "euro_data['TRPROC'] = 0\n",
    "euro_data.loc[euro_data['AOPROC_COMMON'] > 1, 'AOPROC'] = 1\n",
    "euro_data.loc[euro_data['MIPROC_COMMON'] > 1, 'MIPROC'] = 1\n",
    "euro_data.loc[euro_data['TRPROC_COMMON'] > 1, 'TRPROC'] = 1\n",
    "\n",
    "# add up binary values\n",
    "euro_data['num_procedures'] = euro_data['AOPROC']+euro_data['MIPROC']+euro_data['TRPROC']+euro_data['COTH']+euro_data['CCAB']\n",
    "\n",
    "euro_data.loc[euro_data['num_procedures'] == 2, 'procedure_euro'] = 0.5521478\n",
    "euro_data.loc[euro_data['num_procedures'] > 2, 'procedure_euro'] = 0.9724533\n",
    "\n",
    "# MISSING IS\n",
    "# neuromuscular mobility\n",
    "# thoracic aorta"
   ]
  },
  {
   "cell_type": "code",
   "execution_count": 292,
   "id": "6f3c2b36",
   "metadata": {
    "ExecuteTime": {
     "end_time": "2022-10-20T08:09:37.642952Z",
     "start_time": "2022-10-20T08:09:37.613462Z"
    }
   },
   "outputs": [],
   "source": [
    "## final euroscore ##\n",
    "from math import exp\n",
    "\n",
    "euro_data['additions'] = (euro_data['NYHA_euro'] + \n",
    "                          euro_data['CCS_euro'] + \n",
    "                          euro_data['DB_euro'] +\n",
    "                          euro_data['age_euro'] +\n",
    "                          (euro_data['Sex']-1)*0.2196434 + # female coefficient, male is 0\n",
    "                          euro_data['PVD']*0.5360268 +\n",
    "                          euro_data['lung_euro'] +\n",
    "                          euro_data['PCS']*1.118599 +\n",
    "                          euro_data['renal_euro'] +\n",
    "                          euro_data['endocarditis_euro'] +\n",
    "                          euro_data['critical_euro'] +\n",
    "                          euro_data['LVEF_euro'] +\n",
    "                          euro_data['MI_euro'] +\n",
    "                          euro_data['procedure_euro'] +\n",
    "                          euro_data['urgency_euro'] +\n",
    "                          \n",
    "                          - 5.324537)\n",
    "\n",
    "euro_data['additions'] = euro_data['additions'].fillna(- 5.324537)\n",
    "euro_data['euroscore'] = np.exp(euro_data['additions']) / (1+np.exp(euro_data['additions']))"
   ]
  },
  {
   "cell_type": "code",
   "execution_count": 293,
   "id": "63176dcc",
   "metadata": {
    "ExecuteTime": {
     "end_time": "2022-10-20T08:09:37.658924Z",
     "start_time": "2022-10-20T08:09:37.644946Z"
    }
   },
   "outputs": [
    {
     "data": {
      "text/plain": [
       "0       0.484700\n",
       "1       1.156007\n",
       "2       3.997225\n",
       "3       0.484700\n",
       "4       0.484700\n",
       "          ...   \n",
       "3479    0.484700\n",
       "3480    1.594905\n",
       "3481    1.338331\n",
       "3482    1.334161\n",
       "3484    0.705460\n",
       "Name: euroscore, Length: 3208, dtype: float64"
      ]
     },
     "execution_count": 293,
     "metadata": {},
     "output_type": "execute_result"
    }
   ],
   "source": [
    "data['euroscore'] = euro_data['euroscore']\n",
    "data['euroscore']*100"
   ]
  },
  {
   "cell_type": "code",
   "execution_count": 294,
   "id": "b926361c",
   "metadata": {
    "ExecuteTime": {
     "end_time": "2022-10-20T08:09:37.674895Z",
     "start_time": "2022-10-20T08:09:37.660904Z"
    }
   },
   "outputs": [
    {
     "data": {
      "text/plain": [
       "0.659013846899063"
      ]
     },
     "execution_count": 294,
     "metadata": {},
     "output_type": "execute_result"
    }
   ],
   "source": [
    "# Compare machine learning prediction to euroscore\n",
    "roc_auc_score(y, data['euroscore'])"
   ]
  },
  {
   "cell_type": "code",
   "execution_count": 295,
   "id": "f43003fb",
   "metadata": {
    "ExecuteTime": {
     "end_time": "2022-10-20T08:09:37.690867Z",
     "start_time": "2022-10-20T08:09:37.677859Z"
    }
   },
   "outputs": [
    {
     "data": {
      "text/plain": [
       "0.0584609685407511"
      ]
     },
     "execution_count": 295,
     "metadata": {},
     "output_type": "execute_result"
    }
   ],
   "source": [
    "precision, recall, thresholds = precision_recall_curve(y, data['euroscore'])\n",
    "auc(recall, precision)"
   ]
  },
  {
   "cell_type": "code",
   "execution_count": 296,
   "id": "ca7eed85",
   "metadata": {
    "ExecuteTime": {
     "end_time": "2022-10-20T08:09:37.722744Z",
     "start_time": "2022-10-20T08:09:37.693816Z"
    }
   },
   "outputs": [
    {
     "data": {
      "text/plain": [
       "1769.0"
      ]
     },
     "execution_count": 296,
     "metadata": {},
     "output_type": "execute_result"
    }
   ],
   "source": [
    "### AUSSCORE for comparison\n",
    "\n",
    "# AusSCORE II in predicting 30-day mortality after isolated coronary\n",
    "# artery bypass grafting in Australia and New Zealand\n",
    "# Baki Billah, PhD,a Molla M. Huq, MSc,a Julian A. Smith, MBBS,b,c Fahim Sufi, PhD,d Lavinia Tran, PhD,a\n",
    "# Gilbert C. Shardey, MBBS,e and Christopher M. Reid, PhDa\n",
    "# The Journal of Thoracic and Cardiovascular Surgery 2014\n",
    "\n",
    "aus_data = data.loc[:]\n",
    "\n",
    "# need to exclude non isolated CABG cases\n",
    "condition = (aus_data['CCAB'] == 1) & (aus_data['CVLV'] == 0) & (aus_data['AO'] == 0) & (aus_data['COTH'] == 0)\n",
    "\n",
    "aus_data.loc[condition, 'iso_CABG'] = 1\n",
    "aus_data['iso_CABG'] = aus_data['iso_CABG'].fillna(0)\n",
    "aus_data['iso_CABG'].sum()\n",
    "\n",
    "aus_data = aus_data[aus_data['iso_CABG'] == 1]"
   ]
  },
  {
   "cell_type": "code",
   "execution_count": 297,
   "id": "126ba42e",
   "metadata": {
    "ExecuteTime": {
     "end_time": "2022-10-20T08:09:37.786602Z",
     "start_time": "2022-10-20T08:09:37.726728Z"
    }
   },
   "outputs": [],
   "source": [
    "# Age\n",
    "aus_data.loc[aus_data['AGE'] < 70, 'aus_age'] = 0\n",
    "aus_data.loc[(aus_data['AGE'] >= 70) & (aus_data['AGE'] < 80), 'aus_age'] = np.log(1.6)\n",
    "aus_data.loc[(aus_data['AGE'] >= 80), 'aus_age'] = np.log(2.6)\n",
    "\n",
    "# EF_EST\n",
    "aus_data.loc[(aus_data['EF_EST'] <= 2 ), 'aus_EF'] = 0 # EF_EST 1-2 is >45%\n",
    "aus_data.loc[(aus_data['EF_EST'] == 3 ), 'aus_EF'] = np.log(1.7) # EF_EST 3 is 30-45%\n",
    "aus_data.loc[(aus_data['EF_EST'] == 4 ), 'aus_EF'] = np.log(3.6) # EF_EST 4 is < 30%\n",
    "\n",
    "# Previous cardiac surgery\n",
    "aus_data.loc[(aus_data['PCS'] == 0 ), 'aus_PCS'] = 0\n",
    "aus_data.loc[(aus_data['PCS'] == 1 ), 'aus_PCS'] = np.log(2.3) \n",
    "\n",
    "# CrCl\n",
    "aus_data.loc[(aus_data['CrCl'] >= 90), 'aus_CrCl'] = 0\n",
    "aus_data.loc[(aus_data['CrCl'] >= 60) & (aus_data['CrCl'] < 90), 'aus_CrCl'] = np.log(1.5)\n",
    "aus_data.loc[(aus_data['CrCl'] >= 30) & (aus_data['CrCl'] < 60), 'aus_CrCl'] = np.log(2.0)\n",
    "aus_data.loc[(aus_data['CrCl'] < 30), 'aus_CrCl'] = np.log(3.8)\n",
    "\n",
    "# Preoperative dialysis\n",
    "aus_data.loc[(aus_data['DIAL'] == 0), 'aus_CrCl'] = 0\n",
    "aus_data.loc[(aus_data['DIAL'] == 1), 'aus_CrCl'] = np.log(3.9)\n",
    "\n",
    "# Surgical urgency\n",
    "aus_data.loc[(aus_data['STAT'] == 1), 'aus_STAT'] = 0\n",
    "aus_data.loc[(aus_data['STAT'] == 2), 'aus_STAT'] = np.log(1.1)\n",
    "aus_data.loc[(aus_data['STAT'] == 3), 'aus_STAT'] = np.log(2.6)\n",
    "aus_data.loc[(aus_data['STAT'] == 4), 'aus_STAT'] = np.log(2.6)\n",
    "\n",
    "# NYHA\n",
    "aus_data.loc[(aus_data['NYHA'] == 1), 'aus_NYHA'] = 0\n",
    "aus_data.loc[(aus_data['NYHA'] == 2), 'aus_NYHA'] = 0\n",
    "aus_data.loc[(aus_data['NYHA'] == 3), 'aus_NYHA'] = np.log(1.4)\n",
    "aus_data.loc[(aus_data['NYHA'] == 4), 'aus_NYHA'] = np.log(1.8)\n",
    "\n",
    "# Inotrope administration\n",
    "aus_data.loc[(aus_data['MEDIN'] == 0), 'aus_inotrope'] = 0\n",
    "aus_data.loc[(aus_data['MEDIN'] == 1), 'aus_inotrope'] = np.log(2.1)\n",
    "\n",
    "# Peripheral vascular disease\n",
    "aus_data.loc[(aus_data['PVD'] == 0), 'aus_PVD'] = 0\n",
    "aus_data.loc[(aus_data['PVD'] == 1), 'aus_PVD'] = np.log(1.5)\n",
    "\n",
    "# Previous MI\n",
    "aus_data.loc[(aus_data['MI'] == 0), 'aus_MI'] = 0\n",
    "aus_data.loc[(aus_data['MI'] == 1), 'aus_MI'] = np.log(1.5)\n",
    "\n",
    "# Anticoagulant\n",
    "aus_data.loc[(aus_data['MEDAC'] == 0), 'aus_anticoag'] = 0\n",
    "aus_data.loc[(aus_data['MEDAC'] == 1), 'aus_anticoag'] = np.log(1.3)\n",
    "\n",
    "# Gender\n",
    "aus_data.loc[(aus_data['Sex'] == 1), 'aus_sex'] = 0 # 1 is male\n",
    "aus_data.loc[(aus_data['Sex'] == 2), 'aus_sex'] = np.log(1.5) # 2 is female\n",
    "\n",
    "# Cardiogenic shock\n",
    "aus_data.loc[(aus_data['SHOCK'] == 0), 'aus_shock'] = 0\n",
    "aus_data.loc[(aus_data['SHOCK'] == 1), 'aus_shock'] = np.log(1.8)\n",
    "\n",
    "# IV nitrates\n",
    "aus_data.loc[(aus_data['MEDNI'] == 0), 'aus_nitrates'] = 0\n",
    "aus_data.loc[(aus_data['MEDNI'] == 1), 'aus_nitrates'] = np.log(1.5)"
   ]
  },
  {
   "cell_type": "code",
   "execution_count": 298,
   "id": "6da718df",
   "metadata": {
    "ExecuteTime": {
     "end_time": "2022-10-20T08:09:37.802527Z",
     "start_time": "2022-10-20T08:09:37.789565Z"
    }
   },
   "outputs": [],
   "source": [
    "aus_data['ausscore_addition'] = (aus_data['aus_age'] + aus_data['aus_EF'] +\n",
    "                              aus_data['aus_PCS'] + aus_data['aus_CrCl'] +\n",
    "                              aus_data['aus_STAT'] + aus_data['aus_NYHA'] +\n",
    "                              aus_data['aus_inotrope'] + aus_data['aus_PVD'] +\n",
    "                              aus_data['aus_MI'] + aus_data['aus_anticoag'] +\n",
    "                              aus_data['aus_sex'] + aus_data['aus_shock'] +\n",
    "                              aus_data['aus_nitrates'])\n",
    "\n",
    "aus_data['ausscore_total'] = np.exp(aus_data['ausscore_addition']) / (1 + np.exp(aus_data['ausscore_addition']))"
   ]
  },
  {
   "cell_type": "code",
   "execution_count": 299,
   "id": "82cf58ce",
   "metadata": {
    "ExecuteTime": {
     "end_time": "2022-10-20T08:09:37.818482Z",
     "start_time": "2022-10-20T08:09:37.805518Z"
    }
   },
   "outputs": [
    {
     "data": {
      "text/plain": [
       "3       0.692308\n",
       "4       0.661017\n",
       "6       0.797037\n",
       "7       0.697885\n",
       "9       0.759036\n",
       "          ...   \n",
       "2575    0.807969\n",
       "2577    0.677419\n",
       "2581    0.600000\n",
       "2583    0.718310\n",
       "2584    0.725275\n",
       "Name: ausscore_total, Length: 1769, dtype: float64"
      ]
     },
     "execution_count": 299,
     "metadata": {},
     "output_type": "execute_result"
    }
   ],
   "source": [
    "# double check data\n",
    "aus_data['ausscore_total']"
   ]
  },
  {
   "cell_type": "code",
   "execution_count": 300,
   "id": "c5d47fc6",
   "metadata": {
    "ExecuteTime": {
     "end_time": "2022-10-20T08:09:37.834440Z",
     "start_time": "2022-10-20T08:09:37.821474Z"
    }
   },
   "outputs": [
    {
     "data": {
      "text/plain": [
       "0.7619863013698629"
      ]
     },
     "execution_count": 300,
     "metadata": {},
     "output_type": "execute_result"
    }
   ],
   "source": [
    "# set outcome variable\n",
    "y = aus_data['MORT30']\n",
    "\n",
    "# check roc_auc\n",
    "roc_auc_score(y, aus_data['ausscore_total'])"
   ]
  },
  {
   "cell_type": "code",
   "execution_count": 301,
   "id": "504fc5f5",
   "metadata": {
    "ExecuteTime": {
     "end_time": "2022-10-20T08:09:38.313191Z",
     "start_time": "2022-10-20T08:09:37.836434Z"
    }
   },
   "outputs": [
    {
     "data": {
      "text/plain": [
       "[<matplotlib.lines.Line2D at 0x249f30640a0>]"
      ]
     },
     "execution_count": 301,
     "metadata": {},
     "output_type": "execute_result"
    },
    {
     "data": {
      "text/plain": [
       "<sklearn.metrics._plot.precision_recall_curve.PrecisionRecallDisplay at 0x249f3b9c160>"
      ]
     },
     "execution_count": 301,
     "metadata": {},
     "output_type": "execute_result"
    },
    {
     "data": {
      "image/png": "[encoded data removed]",
      "text/plain": [
       "<Figure size 360x360 with 1 Axes>"
      ]
     },
     "metadata": {
      "needs_background": "light"
     },
     "output_type": "display_data"
    },
    {
     "data": {
      "image/png": "[encoded data removed]",
      "text/plain": [
       "<Figure size 360x360 with 1 Axes>"
      ]
     },
     "metadata": {
      "needs_background": "light"
     },
     "output_type": "display_data"
    }
   ],
   "source": [
    "### Plotting Curves ###\n",
    "\n",
    "model = log_grid_search\n",
    "\n",
    "# fig = plot_roc_curve(model, X_test_prepared, y_test, name='EuroScore II')#, ax = fig.ax_)\n",
    "fig = plot_roc_curve(model, X_test_prepared, y_test, name='Logistic Regression ML')#, ax = fig.ax_)\n",
    "plt.plot([0,1], [0,1], color='red', linestyle='--')\n",
    "\n",
    "plot_precision_recall_curve(model, X_test_prepared, y_test, name='Logistic Regression ML')"
   ]
  }
 ],
 "metadata": {
  "kernelspec": {
   "display_name": "Python 3",
   "language": "python",
   "name": "python3"
  },
  "language_info": {
   "codemirror_mode": {
    "name": "ipython",
    "version": 3
   },
   "file_extension": ".py",
   "mimetype": "text/x-python",
   "name": "python",
   "nbconvert_exporter": "python",
   "pygments_lexer": "ipython3",
   "version": "3.8.8"
  },
  "toc": {
   "base_numbering": 1,
   "nav_menu": {},
   "number_sections": true,
   "sideBar": true,
   "skip_h1_title": false,
   "title_cell": "Table of Contents",
   "title_sidebar": "Contents",
   "toc_cell": false,
   "toc_position": {},
   "toc_section_display": true,
   "toc_window_display": false
  },
  "varInspector": {
   "cols": {
    "lenName": 16,
    "lenType": 16,
    "lenVar": 40
   },
   "kernels_config": {
    "python": {
     "delete_cmd_postfix": "",
     "delete_cmd_prefix": "del ",
     "library": "var_list.py",
     "varRefreshCmd": "print(var_dic_list())"
    },
    "r": {
     "delete_cmd_postfix": ") ",
     "delete_cmd_prefix": "rm(",
     "library": "var_list.r",
     "varRefreshCmd": "cat(var_dic_list()) "
    }
   },
   "types_to_exclude": [
    "module",
    "function",
    "builtin_function_or_method",
    "instance",
    "_Feature"
   ],
   "window_display": false
  }
 },
 "nbformat": 4,
 "nbformat_minor": 5
}
